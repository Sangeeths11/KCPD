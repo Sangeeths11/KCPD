{
 "cells": [
  {
   "cell_type": "code",
   "execution_count": 1,
   "metadata": {},
   "outputs": [],
   "source": [
    "import pandas as pd"
   ]
  },
  {
   "cell_type": "code",
   "execution_count": null,
   "metadata": {},
   "outputs": [],
   "source": [
    "mergedData = '..\\\\data\\\\mergedData\\\\merged_df_03.csv'\n",
    "df = pd.read_csv(mergedData)\n",
    "df.head()"
   ]
  },
  {
   "cell_type": "code",
   "execution_count": null,
   "metadata": {},
   "outputs": [],
   "source": [
    "df['description_length'] = df['Offense_Description'].apply(lambda x: len(str(x).split()))\n",
    "max_length = df['description_length'].max()\n",
    "\n",
    "print(f\"The maximum number of words in an Offense_Description is: {max_length}\")\n"
   ]
  },
  {
   "cell_type": "markdown",
   "metadata": {},
   "source": [
    "### Group these descriptions based on similarity using TF-IDF vectorization and KMeans clustering"
   ]
  },
  {
   "cell_type": "code",
   "execution_count": null,
   "metadata": {},
   "outputs": [],
   "source": [
    "import matplotlib.pyplot as plt\n",
    "from sklearn.cluster import KMeans\n",
    "from sklearn.feature_extraction.text import TfidfVectorizer\n",
    "from sklearn.cluster import KMeans\n",
    "from sklearn.metrics import silhouette_score\n",
    "\n",
    "offense_descriptions = df['Offense_Description'].dropna()\n",
    "\n",
    "vectorizer = TfidfVectorizer(stop_words='english', ngram_range=(1, max_length))\n",
    "X = vectorizer.fit_transform(offense_descriptions)"
   ]
  },
  {
   "cell_type": "code",
   "execution_count": null,
   "metadata": {},
   "outputs": [],
   "source": [
    "from sklearn.feature_extraction.text import TfidfVectorizer\n",
    "from sklearn.cluster import KMeans\n",
    "\n",
    "offense_descriptions = df['Offense_Description'].dropna()\n",
    "\n",
    "vectorizer = TfidfVectorizer(stop_words='english', ngram_range=(1, max_length))\n",
    "X = vectorizer.fit_transform(offense_descriptions)\n",
    "\n",
    "n_clusters = 50 \n",
    "kmeans = KMeans(n_clusters=n_clusters, random_state=42)\n",
    "df['Offense_Cluster'] = kmeans.fit_predict(X)\n",
    "\n",
    "df[['Offense_Description', 'Offense_Cluster']].head()"
   ]
  },
  {
   "cell_type": "code",
   "execution_count": null,
   "metadata": {},
   "outputs": [],
   "source": [
    "import numpy as np\n",
    "\n",
    "\n",
    "def get_top_terms_per_cluster(X, cluster_labels, vectorizer, n_terms=5):\n",
    "    \"\"\"Return the top n terms for each cluster.\"\"\"\n",
    "    order_centroids = kmeans.cluster_centers_.argsort()[:, ::-1]\n",
    "    terms = vectorizer.get_feature_names_out()\n",
    "    cluster_terms = {}\n",
    "    \n",
    "    for i in range(n_clusters):\n",
    "        top_terms = [terms[ind] for ind in order_centroids[i, :n_terms]]\n",
    "        cluster_terms[i] = top_terms\n",
    "    \n",
    "    return cluster_terms\n",
    "top_terms_per_cluster = get_top_terms_per_cluster(X, kmeans.labels_, vectorizer)\n",
    "\n",
    "for cluster, terms in top_terms_per_cluster.items():\n",
    "    print(f\"Cluster {cluster}: {', '.join(terms)}\")\n"
   ]
  }
 ],
 "metadata": {
  "kernelspec": {
   "display_name": "fhgr",
   "language": "python",
   "name": "python3"
  },
  "language_info": {
   "codemirror_mode": {
    "name": "ipython",
    "version": 3
   },
   "file_extension": ".py",
   "mimetype": "text/x-python",
   "name": "python",
   "nbconvert_exporter": "python",
   "pygments_lexer": "ipython3",
   "version": "3.10.9"
  }
 },
 "nbformat": 4,
 "nbformat_minor": 2
}
