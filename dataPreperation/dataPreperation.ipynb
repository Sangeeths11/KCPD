{
 "cells": [
  {
   "cell_type": "markdown",
   "metadata": {},
   "source": [
    " ### Loading Dataset"
   ]
  },
  {
   "cell_type": "code",
   "execution_count": 1,
   "metadata": {},
   "outputs": [],
   "source": [
    "import pandas as pd\n",
    "import re"
   ]
  },
  {
   "cell_type": "code",
   "execution_count": 2,
   "metadata": {},
   "outputs": [
    {
     "data": {
      "text/html": [
       "<div>\n",
       "<style scoped>\n",
       "    .dataframe tbody tr th:only-of-type {\n",
       "        vertical-align: middle;\n",
       "    }\n",
       "\n",
       "    .dataframe tbody tr th {\n",
       "        vertical-align: top;\n",
       "    }\n",
       "\n",
       "    .dataframe thead th {\n",
       "        text-align: right;\n",
       "    }\n",
       "</style>\n",
       "<table border=\"1\" class=\"dataframe\">\n",
       "  <thead>\n",
       "    <tr style=\"text-align: right;\">\n",
       "      <th></th>\n",
       "      <th>Report_No</th>\n",
       "      <th>Reported_Date</th>\n",
       "      <th>Reported Time</th>\n",
       "      <th>From_Date</th>\n",
       "      <th>From Time</th>\n",
       "      <th>To_Date</th>\n",
       "      <th>To Time</th>\n",
       "      <th>Offense</th>\n",
       "      <th>IBRS</th>\n",
       "      <th>Description</th>\n",
       "      <th>...</th>\n",
       "      <th>DVFlag</th>\n",
       "      <th>Invl_No</th>\n",
       "      <th>Involvement</th>\n",
       "      <th>Race</th>\n",
       "      <th>Sex</th>\n",
       "      <th>Age</th>\n",
       "      <th>Firearm Used Flag</th>\n",
       "      <th>Latitude</th>\n",
       "      <th>Longitude</th>\n",
       "      <th>Location 1</th>\n",
       "    </tr>\n",
       "  </thead>\n",
       "  <tbody>\n",
       "    <tr>\n",
       "      <th>0</th>\n",
       "      <td>150015427</td>\n",
       "      <td>03/06/2015</td>\n",
       "      <td>0:02</td>\n",
       "      <td>03/06/2015</td>\n",
       "      <td>0:02</td>\n",
       "      <td>NaN</td>\n",
       "      <td>NaN</td>\n",
       "      <td>2601</td>\n",
       "      <td>90Z</td>\n",
       "      <td>Misc Violation</td>\n",
       "      <td>...</td>\n",
       "      <td>U</td>\n",
       "      <td>1</td>\n",
       "      <td>VIC</td>\n",
       "      <td>NaN</td>\n",
       "      <td>NaN</td>\n",
       "      <td>NaN</td>\n",
       "      <td>N</td>\n",
       "      <td>38.9767</td>\n",
       "      <td>-94.5767</td>\n",
       "      <td>BROADWAY KANSAS CITY64131\\r\\n(38.9767, -94.5767)</td>\n",
       "    </tr>\n",
       "    <tr>\n",
       "      <th>1</th>\n",
       "      <td>70045155</td>\n",
       "      <td>09/21/2015</td>\n",
       "      <td>14:20</td>\n",
       "      <td>01/19/2015</td>\n",
       "      <td>NaN</td>\n",
       "      <td>NaN</td>\n",
       "      <td>NaN</td>\n",
       "      <td>401</td>\n",
       "      <td>13A</td>\n",
       "      <td>Aggravated Assault (</td>\n",
       "      <td>...</td>\n",
       "      <td>U</td>\n",
       "      <td>1</td>\n",
       "      <td>VIC</td>\n",
       "      <td>B</td>\n",
       "      <td>M</td>\n",
       "      <td>NaN</td>\n",
       "      <td>N</td>\n",
       "      <td>0.0000</td>\n",
       "      <td>0.0000</td>\n",
       "      <td>99999(0.0, 0.0)</td>\n",
       "    </tr>\n",
       "    <tr>\n",
       "      <th>2</th>\n",
       "      <td>70045155</td>\n",
       "      <td>09/21/2015</td>\n",
       "      <td>14:20</td>\n",
       "      <td>01/19/2015</td>\n",
       "      <td>NaN</td>\n",
       "      <td>NaN</td>\n",
       "      <td>NaN</td>\n",
       "      <td>2001</td>\n",
       "      <td>90F</td>\n",
       "      <td>Family Offense</td>\n",
       "      <td>...</td>\n",
       "      <td>U</td>\n",
       "      <td>1</td>\n",
       "      <td>VIC</td>\n",
       "      <td>B</td>\n",
       "      <td>M</td>\n",
       "      <td>NaN</td>\n",
       "      <td>N</td>\n",
       "      <td>0.0000</td>\n",
       "      <td>0.0000</td>\n",
       "      <td>99999(0.0, 0.0)</td>\n",
       "    </tr>\n",
       "    <tr>\n",
       "      <th>3</th>\n",
       "      <td>150057463</td>\n",
       "      <td>09/08/2015</td>\n",
       "      <td>1:17</td>\n",
       "      <td>09/08/2015</td>\n",
       "      <td>1:17</td>\n",
       "      <td>NaN</td>\n",
       "      <td>NaN</td>\n",
       "      <td>702</td>\n",
       "      <td>240</td>\n",
       "      <td>Auto Theft</td>\n",
       "      <td>...</td>\n",
       "      <td>U</td>\n",
       "      <td>1</td>\n",
       "      <td>SUS</td>\n",
       "      <td>U</td>\n",
       "      <td>U</td>\n",
       "      <td>NaN</td>\n",
       "      <td>N</td>\n",
       "      <td>39.0947</td>\n",
       "      <td>-94.5516</td>\n",
       "      <td>E PROSPECT KANSAS CITY, AV 64126\\r\\n(39.0947, ...</td>\n",
       "    </tr>\n",
       "    <tr>\n",
       "      <th>4</th>\n",
       "      <td>150033873</td>\n",
       "      <td>05/19/2015</td>\n",
       "      <td>0:21</td>\n",
       "      <td>05/19/2015</td>\n",
       "      <td>0:21</td>\n",
       "      <td>NaN</td>\n",
       "      <td>NaN</td>\n",
       "      <td>1849</td>\n",
       "      <td>35A</td>\n",
       "      <td>Possession/Sale/Dist</td>\n",
       "      <td>...</td>\n",
       "      <td>U</td>\n",
       "      <td>1</td>\n",
       "      <td>VIC</td>\n",
       "      <td>NaN</td>\n",
       "      <td>NaN</td>\n",
       "      <td>NaN</td>\n",
       "      <td>N</td>\n",
       "      <td>39.0735</td>\n",
       "      <td>-94.5461</td>\n",
       "      <td>VICTOR KANSAS CITY, ST 64128\\r\\n(39.0735, -94....</td>\n",
       "    </tr>\n",
       "  </tbody>\n",
       "</table>\n",
       "<p>5 rows × 26 columns</p>\n",
       "</div>"
      ],
      "text/plain": [
       "   Report_No Reported_Date Reported Time   From_Date From Time To_Date  \\\n",
       "0  150015427    03/06/2015          0:02  03/06/2015      0:02     NaN   \n",
       "1   70045155    09/21/2015         14:20  01/19/2015       NaN     NaN   \n",
       "2   70045155    09/21/2015         14:20  01/19/2015       NaN     NaN   \n",
       "3  150057463    09/08/2015          1:17  09/08/2015      1:17     NaN   \n",
       "4  150033873    05/19/2015          0:21  05/19/2015      0:21     NaN   \n",
       "\n",
       "  To Time  Offense IBRS           Description  ...  DVFlag Invl_No  \\\n",
       "0     NaN     2601  90Z        Misc Violation  ...       U       1   \n",
       "1     NaN      401  13A  Aggravated Assault (  ...       U       1   \n",
       "2     NaN     2001  90F        Family Offense  ...       U       1   \n",
       "3     NaN      702  240            Auto Theft  ...       U       1   \n",
       "4     NaN     1849  35A  Possession/Sale/Dist  ...       U       1   \n",
       "\n",
       "  Involvement  Race  Sex Age Firearm Used Flag  Latitude Longitude  \\\n",
       "0         VIC   NaN  NaN NaN                 N   38.9767  -94.5767   \n",
       "1         VIC     B    M NaN                 N    0.0000    0.0000   \n",
       "2         VIC     B    M NaN                 N    0.0000    0.0000   \n",
       "3         SUS     U    U NaN                 N   39.0947  -94.5516   \n",
       "4         VIC   NaN  NaN NaN                 N   39.0735  -94.5461   \n",
       "\n",
       "                                          Location 1  \n",
       "0   BROADWAY KANSAS CITY64131\\r\\n(38.9767, -94.5767)  \n",
       "1                                    99999(0.0, 0.0)  \n",
       "2                                    99999(0.0, 0.0)  \n",
       "3  E PROSPECT KANSAS CITY, AV 64126\\r\\n(39.0947, ...  \n",
       "4  VICTOR KANSAS CITY, ST 64128\\r\\n(39.0735, -94....  \n",
       "\n",
       "[5 rows x 26 columns]"
      ]
     },
     "execution_count": 2,
     "metadata": {},
     "output_type": "execute_result"
    }
   ],
   "source": [
    "dataSet2015 = '..\\\\data\\\\2015\\\\KCPD_Crime_Data_2015_20240924.csv'\n",
    "df = pd.read_csv(dataSet2015)\n",
    "df.head()"
   ]
  },
  {
   "cell_type": "code",
   "execution_count": 3,
   "metadata": {},
   "outputs": [
    {
     "data": {
      "text/plain": [
       "Index(['Report_No', 'Reported_Date', 'Reported Time', 'From_Date', 'From Time',\n",
       "       'To_Date', 'To Time', 'Offense', 'IBRS', 'Description', 'Beat',\n",
       "       'Address', 'City', 'Zip Code', 'Rep_Dist', 'Area', 'DVFlag', 'Invl_No',\n",
       "       'Involvement', 'Race', 'Sex', 'Age', 'Firearm Used Flag', 'Latitude',\n",
       "       'Longitude', 'Location 1'],\n",
       "      dtype='object')"
      ]
     },
     "execution_count": 3,
     "metadata": {},
     "output_type": "execute_result"
    }
   ],
   "source": [
    "df.columns"
   ]
  },
  {
   "cell_type": "markdown",
   "metadata": {},
   "source": [
    "Columns in the dataset are as follows:\n",
    "\n",
    "| Column Name           | Description                                                                 |\n",
    "|-----------------------|-----------------------------------------------------------------------------|\n",
    "| **Report_No**          | Eindeutige Identifikationsnummer des Berichts.                              |\n",
    "| **Reported_Date**      | Datum, an dem das Verbrechen gemeldet wurde.                                |\n",
    "| **Reported Time**      | Uhrzeit, zu der das Verbrechen gemeldet wurde.                              |\n",
    "| **From_Date**          | Datum, an dem das Verbrechen stattfand oder begann.                         |\n",
    "| **From Time**          | Uhrzeit, zu der das Verbrechen stattfand oder begann.                       |\n",
    "| **To_Date**            | Datum, an dem das Verbrechen endete (falls bekannt).                        |\n",
    "| **To Time**            | Uhrzeit, zu der das Verbrechen endete (falls bekannt).                      |\n",
    "| **Offense**            | Code des gemeldeten Verbrechens.                                            |\n",
    "| **IBRS**               | Klassifizierung des Verbrechens nach dem International Crime Reporting Standard. |\n",
    "| **Description**        | Beschreibung des Verbrechens.                                               |\n",
    "| **Beat**               | Polizeibereich oder Zone, in dem das Verbrechen gemeldet wurde.             |\n",
    "| **Address**            | Adresse, an der das Verbrechen stattfand.                                   |\n",
    "| **City**               | Stadt, in der das Verbrechen stattfand.                                     |\n",
    "| **Zip Code**           | Postleitzahl des Verbrechensorts.                                           |\n",
    "| **Rep_Dist**           | Reporting District, die Berichterstattungsregion.                           |\n",
    "| **Area**               | Gebietsbezeichnung.                                                         |\n",
    "| **DVFlag**             | Kennzeichnung, ob es sich um ein häusliches Verbrechen handelt (Domestic Violence Flag). |\n",
    "| **Invl_No**            | Eindeutige Identifikationsnummer der beteiligten Person.                    |\n",
    "| **Involvement**        | Art der Beteiligung (z. B. Täter, Opfer).                                   |\n",
    "| **Race**               | Ethnische Zugehörigkeit der beteiligten Person.                             |\n",
    "| **Sex**                | Geschlecht der beteiligten Person.                                          |\n",
    "| **Age**                | Alter der beteiligten Person.                                               |\n",
    "| **Firearm Used Flag**  | Angabe, ob eine Schusswaffe verwendet wurde.                                |\n",
    "| **Latitude**           | Geografische Breite des Verbrechensortes.                                   |\n",
    "| **Longitude**          | Geografische Länge des Verbrechensortes.                                    |\n",
    "| **Location 1**         | Detaillierte Ortsangabe (Straße und Koordinaten) des Verbrechens.           |\n"
   ]
  },
  {
   "cell_type": "code",
   "execution_count": 4,
   "metadata": {},
   "outputs": [
    {
     "name": "stdout",
     "output_type": "stream",
     "text": [
      "<class 'pandas.core.frame.DataFrame'>\n",
      "RangeIndex: 121901 entries, 0 to 121900\n",
      "Data columns (total 26 columns):\n",
      " #   Column             Non-Null Count   Dtype  \n",
      "---  ------             --------------   -----  \n",
      " 0   Report_No          121901 non-null  int64  \n",
      " 1   Reported_Date      121901 non-null  object \n",
      " 2   Reported Time      121901 non-null  object \n",
      " 3   From_Date          121716 non-null  object \n",
      " 4   From Time          121632 non-null  object \n",
      " 5   To_Date            46553 non-null   object \n",
      " 6   To Time            46134 non-null   object \n",
      " 7   Offense            121901 non-null  int64  \n",
      " 8   IBRS               120989 non-null  object \n",
      " 9   Description        121901 non-null  object \n",
      " 10  Beat               121711 non-null  float64\n",
      " 11  Address            121875 non-null  object \n",
      " 12  City               121875 non-null  object \n",
      " 13  Zip Code           121901 non-null  int64  \n",
      " 14  Rep_Dist           121681 non-null  object \n",
      " 15  Area               121681 non-null  object \n",
      " 16  DVFlag             121901 non-null  object \n",
      " 17  Invl_No            121901 non-null  int64  \n",
      " 18  Involvement        121901 non-null  object \n",
      " 19  Race               105155 non-null  object \n",
      " 20  Sex                105155 non-null  object \n",
      " 21  Age                66930 non-null   float64\n",
      " 22  Firearm Used Flag  121901 non-null  object \n",
      " 23  Latitude           121901 non-null  float64\n",
      " 24  Longitude          121901 non-null  float64\n",
      " 25  Location 1         121901 non-null  object \n",
      "dtypes: float64(4), int64(4), object(18)\n",
      "memory usage: 24.2+ MB\n"
     ]
    }
   ],
   "source": [
    "df.info()"
   ]
  },
  {
   "cell_type": "code",
   "execution_count": 5,
   "metadata": {},
   "outputs": [
    {
     "name": "stdout",
     "output_type": "stream",
     "text": [
      "Report_No                0\n",
      "Reported_Date            0\n",
      "Reported Time            0\n",
      "From_Date              185\n",
      "From Time              269\n",
      "To_Date              75348\n",
      "To Time              75767\n",
      "Offense                  0\n",
      "IBRS                   912\n",
      "Description              0\n",
      "Beat                   190\n",
      "Address                 26\n",
      "City                    26\n",
      "Zip Code                 0\n",
      "Rep_Dist               220\n",
      "Area                   220\n",
      "DVFlag                   0\n",
      "Invl_No                  0\n",
      "Involvement              0\n",
      "Race                 16746\n",
      "Sex                  16746\n",
      "Age                  54971\n",
      "Firearm Used Flag        0\n",
      "Latitude                 0\n",
      "Longitude                0\n",
      "Location 1               0\n",
      "dtype: int64\n"
     ]
    }
   ],
   "source": [
    "missing_values = df.isnull().sum()\n",
    "print(missing_values)"
   ]
  },
  {
   "cell_type": "code",
   "execution_count": 6,
   "metadata": {},
   "outputs": [
    {
     "name": "stderr",
     "output_type": "stream",
     "text": [
      "C:\\Users\\leand\\AppData\\Local\\Temp\\ipykernel_20060\\29561206.py:16: DtypeWarning: Columns (0,9) have mixed types. Specify dtype option on import or set low_memory=False.\n",
      "  df2019 = pd.read_csv(dataSet2019)\n",
      "C:\\Users\\leand\\AppData\\Local\\Temp\\ipykernel_20060\\29561206.py:18: DtypeWarning: Columns (13) have mixed types. Specify dtype option on import or set low_memory=False.\n",
      "  df2021 = pd.read_csv(dataSet2021)\n",
      "C:\\Users\\leand\\AppData\\Local\\Temp\\ipykernel_20060\\29561206.py:19: DtypeWarning: Columns (10) have mixed types. Specify dtype option on import or set low_memory=False.\n",
      "  df2022 = pd.read_csv(dataSet2022)\n"
     ]
    }
   ],
   "source": [
    "dataSet2015 = '..\\\\data\\\\2015\\\\KCPD_Crime_Data_2015_20240924.csv'\n",
    "dataSet2016 = '..\\\\data\\\\2016\\\\KCPD_Crime_Data_2016_20240924.csv'\n",
    "dataSet2017 = '..\\\\data\\\\2017\\\\KCPD_Crime_Data_2017_20240924.csv'\n",
    "dataSet2018 = '..\\\\data\\\\2018\\\\KCPD_Crime_Data_2018_20240924.csv'\n",
    "dataSet2019 = '..\\\\data\\\\2019\\\\KCPD_Crime_Data_2019_20240924.csv'\n",
    "dataSet2020 = '..\\\\data\\\\2020\\\\KCPD_Crime_Data_2020_20240924.csv'\n",
    "dataSet2021 = '..\\\\data\\\\2021\\\\KCPD_Crime_Data_2021_20240924.csv'\n",
    "dataSet2022 = '..\\\\data\\\\2022\\\\KCPD_Crime_Data_2022_20240924.csv'\n",
    "dataSet2023 = '..\\\\data\\\\2023\\\\KCPD_Crime_Data_2023_20240924.csv'\n",
    "dataSet2024 = '..\\\\data\\\\2024\\\\KCPD_Crime_Data_2024_20240924.csv'\n",
    "\n",
    "df2015 = pd.read_csv(dataSet2015)\n",
    "df2016 = pd.read_csv(dataSet2016)\n",
    "df2017 = pd.read_csv(dataSet2017)\n",
    "df2018 = pd.read_csv(dataSet2018)\n",
    "df2019 = pd.read_csv(dataSet2019)\n",
    "df2020 = pd.read_csv(dataSet2020)\n",
    "df2021 = pd.read_csv(dataSet2021)\n",
    "df2022 = pd.read_csv(dataSet2022)\n",
    "df2023 = pd.read_csv(dataSet2023)\n",
    "df2024 = pd.read_csv(dataSet2024)"
   ]
  },
  {
   "cell_type": "code",
   "execution_count": 7,
   "metadata": {},
   "outputs": [],
   "source": [
    "\n",
    "def getdifferentColoumns():\n",
    "    col2024 = df2024.columns  # Standard columns einfach mal von 2024 genommen für das letzte Jahr\n",
    "\n",
    "    mockdatasets = {\n",
    "        \"2015\": df2015.columns,\n",
    "        \"2016\": df2016.columns,\n",
    "        \"2017\": df2017.columns,\n",
    "        \"2018\": df2018.columns,\n",
    "        \"2019\": df2019.columns,\n",
    "        \"2020\": df2020.columns,\n",
    "        \"2021\": df2021.columns,\n",
    "        \"2022\": df2022.columns,\n",
    "        \"2023\": df2023.columns,\n",
    "        \"2024\": df2024.columns\n",
    "    }\n",
    "\n",
    "    mismatched_columns = {}\n",
    "    same_columns = []\n",
    "\n",
    "    for year, columns in mockdatasets.items():\n",
    "        if not columns.equals(col2024):\n",
    "            col_diff_2024 = set(col2024) - set(columns)\n",
    "            col_diff_year = set(columns) - set(col2024)\n",
    "            mismatched_columns[year] = {\n",
    "                \"in_2024_not_in_year\": col_diff_2024,\n",
    "                \"in_year_not_in_2024\": col_diff_year\n",
    "            }\n",
    "        else:\n",
    "            same_columns.append(year)\n",
    "\n",
    "    if not mismatched_columns:\n",
    "        print(\"Alle Spalten sind gleich wie 2024.\")\n",
    "    else:\n",
    "        for year, diffs in mismatched_columns.items():\n",
    "            print(f\"Jahr {year} hat unterschiedliche Spalten:\")\n",
    "            if diffs[\"in_2024_not_in_year\"]:\n",
    "                print(f\"  In 2024, aber nicht in {year}: {', '.join(diffs['in_2024_not_in_year'])}\")\n",
    "            if diffs[\"in_year_not_in_2024\"]:\n",
    "                print(f\"  In {year}, aber nicht in 2024: {', '.join(diffs['in_year_not_in_2024'])}\")\n",
    "\n",
    "    if same_columns:\n",
    "        print(f\"Folgende Jahre haben die gleichen Spalten wie 2024: {', '.join(same_columns)}\")\n"
   ]
  },
  {
   "cell_type": "code",
   "execution_count": 8,
   "metadata": {},
   "outputs": [
    {
     "name": "stdout",
     "output_type": "stream",
     "text": [
      "Jahr 2015 hat unterschiedliche Spalten:\n",
      "  In 2024, aber nicht in 2015: Location, From_Time, Reported_Time, Fire Arm Used Flag, Age_Range, To_Time\n",
      "  In 2015, aber nicht in 2024: Location 1, Reported Time, Firearm Used Flag, Invl_No, Latitude, Longitude, To Time, From Time\n",
      "Jahr 2016 hat unterschiedliche Spalten:\n",
      "  In 2024, aber nicht in 2016: Age_Range, Location, Fire Arm Used Flag\n",
      "  In 2016, aber nicht in 2024: Location 1, Firearm Used Flag, Invl_No, Latitude, Longitude\n",
      "Jahr 2017 hat unterschiedliche Spalten:\n",
      "  In 2024, aber nicht in 2017: Age_Range, Fire Arm Used Flag\n",
      "  In 2017, aber nicht in 2024: Firearm Used Flag, Invl_No\n",
      "Jahr 2018 hat unterschiedliche Spalten:\n",
      "  In 2024, aber nicht in 2018: Age_Range, Fire Arm Used Flag\n",
      "  In 2018, aber nicht in 2024: Firearm Used Flag, Invl_No\n",
      "Jahr 2019 hat unterschiedliche Spalten:\n",
      "  In 2024, aber nicht in 2019: Age_Range, Fire Arm Used Flag\n",
      "  In 2019, aber nicht in 2024: Firearm Used Flag\n",
      "Jahr 2020 hat unterschiedliche Spalten:\n",
      "  In 2024, aber nicht in 2020: From_Time, Reported_Time, Fire Arm Used Flag, Age_Range, To_Time\n",
      "  In 2020, aber nicht in 2024: Reported Time, Firearm Used Flag, From Time, To Time\n",
      "Jahr 2021 hat unterschiedliche Spalten:\n",
      "  In 2024, aber nicht in 2021: Fire Arm Used Flag\n",
      "  In 2021, aber nicht in 2024: Firearm Used Flag\n",
      "Folgende Jahre haben die gleichen Spalten wie 2024: 2022, 2023, 2024\n"
     ]
    }
   ],
   "source": [
    "getdifferentColoumns()"
   ]
  },
  {
   "cell_type": "markdown",
   "metadata": {},
   "source": [
    "### Prepare the data to merge"
   ]
  },
  {
   "cell_type": "code",
   "execution_count": 9,
   "metadata": {},
   "outputs": [
    {
     "name": "stdout",
     "output_type": "stream",
     "text": [
      "Jahr 2015 hat unterschiedliche Spalten:\n",
      "  In 2024, aber nicht in 2015: Location, From_Time, Reported_Time, Age_Range, To_Time\n",
      "  In 2015, aber nicht in 2024: Location 1, Reported Time, Invl_No, Latitude, Longitude, To Time, From Time\n",
      "Jahr 2016 hat unterschiedliche Spalten:\n",
      "  In 2024, aber nicht in 2016: Age_Range, Location\n",
      "  In 2016, aber nicht in 2024: Location 1, Longitude, Latitude, Invl_No\n",
      "Jahr 2017 hat unterschiedliche Spalten:\n",
      "  In 2024, aber nicht in 2017: Age_Range\n",
      "  In 2017, aber nicht in 2024: Invl_No\n",
      "Jahr 2018 hat unterschiedliche Spalten:\n",
      "  In 2024, aber nicht in 2018: Age_Range\n",
      "  In 2018, aber nicht in 2024: Invl_No\n",
      "Jahr 2019 hat unterschiedliche Spalten:\n",
      "  In 2024, aber nicht in 2019: Age_Range\n",
      "Jahr 2020 hat unterschiedliche Spalten:\n",
      "  In 2024, aber nicht in 2020: Age_Range, To_Time, Reported_Time, From_Time\n",
      "  In 2020, aber nicht in 2024: Reported Time, From Time, To Time\n",
      "Folgende Jahre haben die gleichen Spalten wie 2024: 2021, 2022, 2023, 2024\n"
     ]
    }
   ],
   "source": [
    "df2024.rename(columns={'Fire Arm Used Flag': 'Firearm Used Flag'}, inplace=True)\n",
    "df2022.rename(columns={'Fire Arm Used Flag': 'Firearm Used Flag'}, inplace=True)\n",
    "df2023.rename(columns={'Fire Arm Used Flag': 'Firearm Used Flag'}, inplace=True)\n",
    "getdifferentColoumns()"
   ]
  },
  {
   "cell_type": "code",
   "execution_count": 10,
   "metadata": {},
   "outputs": [
    {
     "name": "stdout",
     "output_type": "stream",
     "text": [
      "Age 0        33.0\n",
      "1         NaN\n",
      "2        29.0\n",
      "3        65.0\n",
      "4         NaN\n",
      "         ... \n",
      "80174    28.0\n",
      "80175    35.0\n",
      "80176    23.0\n",
      "80177    20.0\n",
      "80178    40.0\n",
      "Name: Age, Length: 80179, dtype: float64\n",
      "Age_Range 0        25-34\n",
      "1          NaN\n",
      "2        25-34\n",
      "3        65-74\n",
      "4          NaN\n",
      "         ...  \n",
      "80174    25-34\n",
      "80175    35-44\n",
      "80176    18-24\n",
      "80177    18-24\n",
      "80178    35-44\n",
      "Name: Age_Range, Length: 80179, dtype: object\n"
     ]
    }
   ],
   "source": [
    "print('Age', df2024[\"Age\"])\n",
    "print('Age_Range', df2024[\"Age_Range\"])\n",
    "df2021.drop('Age_Range', axis=1, inplace=True)\n",
    "df2022.drop('Age_Range', axis=1, inplace=True)\n",
    "df2023.drop('Age_Range', axis=1, inplace=True)\n",
    "df2024.drop('Age_Range', axis=1, inplace=True)\n"
   ]
  },
  {
   "cell_type": "code",
   "execution_count": 11,
   "metadata": {},
   "outputs": [
    {
     "name": "stdout",
     "output_type": "stream",
     "text": [
      "Jahr 2015 hat unterschiedliche Spalten:\n",
      "  In 2024, aber nicht in 2015: To_Time, Location, Reported_Time, From_Time\n",
      "  In 2015, aber nicht in 2024: Location 1, Reported Time, Invl_No, Latitude, Longitude, To Time, From Time\n",
      "Jahr 2016 hat unterschiedliche Spalten:\n",
      "  In 2024, aber nicht in 2016: Location\n",
      "  In 2016, aber nicht in 2024: Location 1, Longitude, Latitude, Invl_No\n",
      "Jahr 2017 hat unterschiedliche Spalten:\n",
      "  In 2017, aber nicht in 2024: Invl_No\n",
      "Jahr 2018 hat unterschiedliche Spalten:\n",
      "  In 2018, aber nicht in 2024: Invl_No\n",
      "Jahr 2020 hat unterschiedliche Spalten:\n",
      "  In 2024, aber nicht in 2020: To_Time, Reported_Time, From_Time\n",
      "  In 2020, aber nicht in 2024: Reported Time, From Time, To Time\n",
      "Folgende Jahre haben die gleichen Spalten wie 2024: 2019, 2021, 2022, 2023, 2024\n"
     ]
    }
   ],
   "source": [
    "getdifferentColoumns()"
   ]
  },
  {
   "cell_type": "code",
   "execution_count": 12,
   "metadata": {},
   "outputs": [],
   "source": [
    "df2015.rename(columns={'Reported Time': 'Reported_Time', 'From Time': 'From_Time', 'To Time': 'To_Time'}, inplace=True)"
   ]
  },
  {
   "cell_type": "code",
   "execution_count": 13,
   "metadata": {},
   "outputs": [
    {
     "name": "stdout",
     "output_type": "stream",
     "text": [
      "Jahr 2015 hat unterschiedliche Spalten:\n",
      "  In 2024, aber nicht in 2015: Location\n",
      "  In 2015, aber nicht in 2024: Location 1, Longitude, Latitude, Invl_No\n",
      "Jahr 2016 hat unterschiedliche Spalten:\n",
      "  In 2024, aber nicht in 2016: Location\n",
      "  In 2016, aber nicht in 2024: Location 1, Longitude, Latitude, Invl_No\n",
      "Jahr 2017 hat unterschiedliche Spalten:\n",
      "  In 2017, aber nicht in 2024: Invl_No\n",
      "Jahr 2018 hat unterschiedliche Spalten:\n",
      "  In 2018, aber nicht in 2024: Invl_No\n",
      "Folgende Jahre haben die gleichen Spalten wie 2024: 2019, 2020, 2021, 2022, 2023, 2024\n"
     ]
    }
   ],
   "source": [
    "df2020.rename(columns={'Reported Time': 'Reported_Time', 'From Time': 'From_Time', 'To Time': 'To_Time'}, inplace=True)\n",
    "getdifferentColoumns()"
   ]
  },
  {
   "cell_type": "code",
   "execution_count": 14,
   "metadata": {},
   "outputs": [
    {
     "name": "stdout",
     "output_type": "stream",
     "text": [
      "Jahr 2015 hat unterschiedliche Spalten:\n",
      "  In 2024, aber nicht in 2015: Location\n",
      "  In 2015, aber nicht in 2024: Location 1, Longitude, Latitude\n",
      "Jahr 2016 hat unterschiedliche Spalten:\n",
      "  In 2024, aber nicht in 2016: Location\n",
      "  In 2016, aber nicht in 2024: Location 1, Longitude, Latitude\n",
      "Folgende Jahre haben die gleichen Spalten wie 2024: 2017, 2018, 2019, 2020, 2021, 2022, 2023, 2024\n"
     ]
    }
   ],
   "source": [
    "df2015.drop('Invl_No', axis=1, inplace=True)\n",
    "df2016.drop('Invl_No', axis=1, inplace=True)\n",
    "df2017.drop('Invl_No', axis=1, inplace=True)\n",
    "df2018.drop('Invl_No', axis=1, inplace=True)\n",
    "\n",
    "getdifferentColoumns()"
   ]
  },
  {
   "cell_type": "code",
   "execution_count": 15,
   "metadata": {},
   "outputs": [
    {
     "data": {
      "text/plain": [
       "0          BROADWAY KANSAS CITY64131\\r\\n(38.9767, -94.5767)\n",
       "1                                           99999(0.0, 0.0)\n",
       "2                                           99999(0.0, 0.0)\n",
       "3         E PROSPECT KANSAS CITY, AV 64126\\r\\n(39.0947, ...\n",
       "4         VICTOR KANSAS CITY, ST 64128\\r\\n(39.0735, -94....\n",
       "                                ...                        \n",
       "121896    6600 INDIANA AV\\r\\nKANSAS CITY 64132\\r\\n(39.00...\n",
       "121897    1000 E 8 ST\\r\\nKANSAS CITY 64106\\r\\n(39.1041, ...\n",
       "121898    9300 BALES DR\\r\\nKANSAS CITY 64132\\r\\n(38.9577...\n",
       "121899    1800 MAIN ST\\r\\nKANSAS CITY 64109\\r\\n(39.0917,...\n",
       "121900    7500 RICHMOND AV\\r\\nKANSAS CITY 64138\\r\\n(38.9...\n",
       "Name: Location 1, Length: 121901, dtype: object"
      ]
     },
     "execution_count": 15,
     "metadata": {},
     "output_type": "execute_result"
    }
   ],
   "source": [
    "df2015[\"Location 1\"]"
   ]
  },
  {
   "cell_type": "code",
   "execution_count": 16,
   "metadata": {},
   "outputs": [
    {
     "data": {
      "text/plain": [
       "'10TH KANSAS CITY64106\\r\\n(39.1019, -94.571)'"
      ]
     },
     "execution_count": 16,
     "metadata": {},
     "output_type": "execute_result"
    }
   ],
   "source": [
    "df2016[\"Location 1\"][0]"
   ]
  },
  {
   "cell_type": "code",
   "execution_count": 17,
   "metadata": {},
   "outputs": [
    {
     "data": {
      "text/plain": [
       "39.1019"
      ]
     },
     "execution_count": 17,
     "metadata": {},
     "output_type": "execute_result"
    }
   ],
   "source": [
    "df2016[\"Latitude\"][0]"
   ]
  },
  {
   "cell_type": "code",
   "execution_count": 18,
   "metadata": {},
   "outputs": [
    {
     "data": {
      "text/plain": [
       "-94.571"
      ]
     },
     "execution_count": 18,
     "metadata": {},
     "output_type": "execute_result"
    }
   ],
   "source": [
    "df2016[\"Longitude\"][0]"
   ]
  },
  {
   "cell_type": "code",
   "execution_count": 19,
   "metadata": {},
   "outputs": [
    {
     "data": {
      "text/plain": [
       "0         POINT (-94.58546458 39.103614672)\n",
       "1        POINT (-94.647027706 39.245607408)\n",
       "2        POINT (-94.561572985 39.168812995)\n",
       "3        POINT (-82.393898878 28.048895718)\n",
       "4        POINT (-94.572100389 39.280825631)\n",
       "                        ...                \n",
       "80174    POINT (-94.668092573 39.255583732)\n",
       "80175    POINT (-94.558933021 38.921884014)\n",
       "80176    POINT (-94.594658033 38.991870014)\n",
       "80177    POINT (-94.504258034 38.968539992)\n",
       "80178    POINT (-94.581948973 39.047453012)\n",
       "Name: Location, Length: 80179, dtype: object"
      ]
     },
     "execution_count": 19,
     "metadata": {},
     "output_type": "execute_result"
    }
   ],
   "source": [
    "df2024[\"Location\"]"
   ]
  },
  {
   "cell_type": "markdown",
   "metadata": {},
   "source": [
    "Leandro Koordinaten: ist immer umgekeht: als Bsp: POINT (-94.58546458 39.103614672) wäre das --> (39.103615, -94.585465) in google Maps eingegeben"
   ]
  },
  {
   "cell_type": "code",
   "execution_count": 20,
   "metadata": {},
   "outputs": [
    {
     "name": "stdout",
     "output_type": "stream",
     "text": [
      "Jahr 2015 hat unterschiedliche Spalten:\n",
      "  In 2024, aber nicht in 2015: Location\n",
      "  In 2015, aber nicht in 2024: Location 1, Longitude, Latitude\n",
      "Jahr 2016 hat unterschiedliche Spalten:\n",
      "  In 2024, aber nicht in 2016: Location\n",
      "  In 2016, aber nicht in 2024: Location 1, Longitude, Latitude\n",
      "Folgende Jahre haben die gleichen Spalten wie 2024: 2017, 2018, 2019, 2020, 2021, 2022, 2023, 2024\n"
     ]
    }
   ],
   "source": [
    "getdifferentColoumns()"
   ]
  },
  {
   "cell_type": "code",
   "execution_count": 21,
   "metadata": {},
   "outputs": [],
   "source": [
    "df2015['Location'] = df2015.apply(lambda row: f\"POINT ({row['Longitude']} {row['Latitude']})\", axis=1)"
   ]
  },
  {
   "cell_type": "code",
   "execution_count": 22,
   "metadata": {},
   "outputs": [],
   "source": [
    "df2016['Location'] = df2016.apply(lambda row: f\"POINT ({row['Longitude']} {row['Latitude']})\", axis=1)"
   ]
  },
  {
   "cell_type": "code",
   "execution_count": 23,
   "metadata": {},
   "outputs": [
    {
     "data": {
      "text/plain": [
       "0    POINT (-94.5767 38.9767)\n",
       "1             POINT (0.0 0.0)\n",
       "2             POINT (0.0 0.0)\n",
       "Name: Location, dtype: object"
      ]
     },
     "execution_count": 23,
     "metadata": {},
     "output_type": "execute_result"
    }
   ],
   "source": [
    "df2015[\"Location\"][0:3]"
   ]
  },
  {
   "cell_type": "code",
   "execution_count": 24,
   "metadata": {},
   "outputs": [
    {
     "data": {
      "text/html": [
       "<div>\n",
       "<style scoped>\n",
       "    .dataframe tbody tr th:only-of-type {\n",
       "        vertical-align: middle;\n",
       "    }\n",
       "\n",
       "    .dataframe tbody tr th {\n",
       "        vertical-align: top;\n",
       "    }\n",
       "\n",
       "    .dataframe thead th {\n",
       "        text-align: right;\n",
       "    }\n",
       "</style>\n",
       "<table border=\"1\" class=\"dataframe\">\n",
       "  <thead>\n",
       "    <tr style=\"text-align: right;\">\n",
       "      <th></th>\n",
       "      <th>Location</th>\n",
       "      <th>Latitude</th>\n",
       "      <th>Longitude</th>\n",
       "      <th>Location 1</th>\n",
       "    </tr>\n",
       "  </thead>\n",
       "  <tbody>\n",
       "    <tr>\n",
       "      <th>0</th>\n",
       "      <td>POINT (-94.5767 38.9767)</td>\n",
       "      <td>38.9767</td>\n",
       "      <td>-94.5767</td>\n",
       "      <td>BROADWAY KANSAS CITY64131\\r\\n(38.9767, -94.5767)</td>\n",
       "    </tr>\n",
       "    <tr>\n",
       "      <th>1</th>\n",
       "      <td>POINT (0.0 0.0)</td>\n",
       "      <td>0.0000</td>\n",
       "      <td>0.0000</td>\n",
       "      <td>99999(0.0, 0.0)</td>\n",
       "    </tr>\n",
       "    <tr>\n",
       "      <th>2</th>\n",
       "      <td>POINT (0.0 0.0)</td>\n",
       "      <td>0.0000</td>\n",
       "      <td>0.0000</td>\n",
       "      <td>99999(0.0, 0.0)</td>\n",
       "    </tr>\n",
       "  </tbody>\n",
       "</table>\n",
       "</div>"
      ],
      "text/plain": [
       "                   Location  Latitude  Longitude  \\\n",
       "0  POINT (-94.5767 38.9767)   38.9767   -94.5767   \n",
       "1           POINT (0.0 0.0)    0.0000     0.0000   \n",
       "2           POINT (0.0 0.0)    0.0000     0.0000   \n",
       "\n",
       "                                         Location 1  \n",
       "0  BROADWAY KANSAS CITY64131\\r\\n(38.9767, -94.5767)  \n",
       "1                                   99999(0.0, 0.0)  \n",
       "2                                   99999(0.0, 0.0)  "
      ]
     },
     "execution_count": 24,
     "metadata": {},
     "output_type": "execute_result"
    }
   ],
   "source": [
    "df2015[[\"Location\", \"Latitude\", \"Longitude\", \"Location 1\"]][0:3]"
   ]
  },
  {
   "cell_type": "code",
   "execution_count": 25,
   "metadata": {},
   "outputs": [
    {
     "data": {
      "text/plain": [
       "0     POINT (-94.571 39.1019)\n",
       "1    POINT (-94.5768 39.1722)\n",
       "2    POINT (-94.5314 39.1042)\n",
       "Name: Location, dtype: object"
      ]
     },
     "execution_count": 25,
     "metadata": {},
     "output_type": "execute_result"
    }
   ],
   "source": [
    "df2016[\"Location\"][0:3]"
   ]
  },
  {
   "cell_type": "code",
   "execution_count": 26,
   "metadata": {},
   "outputs": [
    {
     "name": "stdout",
     "output_type": "stream",
     "text": [
      "Number of POINT (0.0 0.0) in 2015: 26\n",
      "Number of POINT (0.0 0.0) in 2016: 37\n"
     ]
    }
   ],
   "source": [
    "# Filter the DataFrame for rows where location is 'POINT (0.0 0.0)'\n",
    "zero_point_rows_df2015 = df2015[df2015['Location'] == 'POINT (0.0 0.0)']\n",
    "zero_point_rows_df2016 = df2016[df2016['Location'] == 'POINT (0.0 0.0)']\n",
    "\n",
    "# Display the rows where location is 'POINT (0.0 0.0)'\n",
    "print(\"Number of POINT (0.0 0.0) in 2015:\", len(zero_point_rows_df2015))\n",
    "print(\"Number of POINT (0.0 0.0) in 2016:\", len(zero_point_rows_df2016))"
   ]
  },
  {
   "cell_type": "markdown",
   "metadata": {},
   "source": [
    "> Remove Rows with no coordinates"
   ]
  },
  {
   "cell_type": "code",
   "execution_count": 27,
   "metadata": {},
   "outputs": [],
   "source": [
    "df2015 = df2015[df2015['Location'] != 'POINT (0.0 0.0)']\n",
    "df2016 = df2016[df2016['Location'] != 'POINT (0.0 0.0)']"
   ]
  },
  {
   "cell_type": "code",
   "execution_count": 28,
   "metadata": {},
   "outputs": [
    {
     "name": "stdout",
     "output_type": "stream",
     "text": [
      "Number of POINT (0.0 0.0) in 2015: 0\n",
      "Number of POINT (0.0 0.0) in 2016: 0\n"
     ]
    }
   ],
   "source": [
    "# Filter the DataFrame for rows where location is 'POINT (0.0 0.0)'\n",
    "zero_point_rows_df2015 = df2015[df2015['Location'] == 'POINT (0.0 0.0)']\n",
    "zero_point_rows_df2016 = df2016[df2016['Location'] == 'POINT (0.0 0.0)']\n",
    "\n",
    "# Display the rows where location is 'POINT (0.0 0.0)'\n",
    "print(\"Number of POINT (0.0 0.0) in 2015:\", len(zero_point_rows_df2015))\n",
    "print(\"Number of POINT (0.0 0.0) in 2016:\", len(zero_point_rows_df2016))"
   ]
  },
  {
   "cell_type": "code",
   "execution_count": 29,
   "metadata": {},
   "outputs": [
    {
     "name": "stdout",
     "output_type": "stream",
     "text": [
      "Jahr 2015 hat unterschiedliche Spalten:\n",
      "  In 2015, aber nicht in 2024: Location 1, Longitude, Latitude\n",
      "Jahr 2016 hat unterschiedliche Spalten:\n",
      "  In 2016, aber nicht in 2024: Location 1, Longitude, Latitude\n",
      "Folgende Jahre haben die gleichen Spalten wie 2024: 2017, 2018, 2019, 2020, 2021, 2022, 2023, 2024\n"
     ]
    }
   ],
   "source": [
    "getdifferentColoumns()"
   ]
  },
  {
   "cell_type": "code",
   "execution_count": 30,
   "metadata": {},
   "outputs": [],
   "source": [
    "df2015.drop('Longitude', axis=1, inplace=True)\n",
    "df2015.drop('Location 1', axis=1, inplace=True)\n",
    "df2015.drop('Latitude', axis=1, inplace=True)\n",
    "\n",
    "df2016.drop('Longitude', axis=1, inplace=True)\n",
    "df2016.drop('Location 1', axis=1, inplace=True)\n",
    "df2016.drop('Latitude', axis=1, inplace=True)"
   ]
  },
  {
   "cell_type": "code",
   "execution_count": 31,
   "metadata": {},
   "outputs": [
    {
     "name": "stdout",
     "output_type": "stream",
     "text": [
      "Alle Spalten sind gleich wie 2024.\n",
      "Folgende Jahre haben die gleichen Spalten wie 2024: 2015, 2016, 2017, 2018, 2019, 2020, 2021, 2022, 2023, 2024\n"
     ]
    }
   ],
   "source": [
    "getdifferentColoumns()"
   ]
  },
  {
   "cell_type": "markdown",
   "metadata": {},
   "source": [
    "## Merge"
   ]
  },
  {
   "cell_type": "code",
   "execution_count": 32,
   "metadata": {},
   "outputs": [],
   "source": [
    "frames = [df2015,df2016, df2017, df2018, df2019, df2020, df2021, df2022, df2023, df2024]"
   ]
  },
  {
   "cell_type": "code",
   "execution_count": 33,
   "metadata": {},
   "outputs": [],
   "source": [
    "merged_df = pd.concat(frames)"
   ]
  },
  {
   "cell_type": "code",
   "execution_count": 34,
   "metadata": {},
   "outputs": [
    {
     "data": {
      "text/html": [
       "<div>\n",
       "<style scoped>\n",
       "    .dataframe tbody tr th:only-of-type {\n",
       "        vertical-align: middle;\n",
       "    }\n",
       "\n",
       "    .dataframe tbody tr th {\n",
       "        vertical-align: top;\n",
       "    }\n",
       "\n",
       "    .dataframe thead th {\n",
       "        text-align: right;\n",
       "    }\n",
       "</style>\n",
       "<table border=\"1\" class=\"dataframe\">\n",
       "  <thead>\n",
       "    <tr style=\"text-align: right;\">\n",
       "      <th></th>\n",
       "      <th>Report_No</th>\n",
       "      <th>Reported_Date</th>\n",
       "      <th>Reported_Time</th>\n",
       "      <th>From_Date</th>\n",
       "      <th>From_Time</th>\n",
       "      <th>To_Date</th>\n",
       "      <th>To_Time</th>\n",
       "      <th>Offense</th>\n",
       "      <th>IBRS</th>\n",
       "      <th>Description</th>\n",
       "      <th>...</th>\n",
       "      <th>Zip Code</th>\n",
       "      <th>Rep_Dist</th>\n",
       "      <th>Area</th>\n",
       "      <th>DVFlag</th>\n",
       "      <th>Involvement</th>\n",
       "      <th>Race</th>\n",
       "      <th>Sex</th>\n",
       "      <th>Age</th>\n",
       "      <th>Firearm Used Flag</th>\n",
       "      <th>Location</th>\n",
       "    </tr>\n",
       "  </thead>\n",
       "  <tbody>\n",
       "    <tr>\n",
       "      <th>0</th>\n",
       "      <td>150015427</td>\n",
       "      <td>03/06/2015</td>\n",
       "      <td>0:02</td>\n",
       "      <td>03/06/2015</td>\n",
       "      <td>0:02</td>\n",
       "      <td>NaN</td>\n",
       "      <td>NaN</td>\n",
       "      <td>2601</td>\n",
       "      <td>90Z</td>\n",
       "      <td>Misc Violation</td>\n",
       "      <td>...</td>\n",
       "      <td>64131</td>\n",
       "      <td>PJ3229</td>\n",
       "      <td>CPD</td>\n",
       "      <td>U</td>\n",
       "      <td>VIC</td>\n",
       "      <td>NaN</td>\n",
       "      <td>NaN</td>\n",
       "      <td>NaN</td>\n",
       "      <td>N</td>\n",
       "      <td>POINT (-94.5767 38.9767)</td>\n",
       "    </tr>\n",
       "    <tr>\n",
       "      <th>3</th>\n",
       "      <td>150057463</td>\n",
       "      <td>09/08/2015</td>\n",
       "      <td>1:17</td>\n",
       "      <td>09/08/2015</td>\n",
       "      <td>1:17</td>\n",
       "      <td>NaN</td>\n",
       "      <td>NaN</td>\n",
       "      <td>702</td>\n",
       "      <td>240</td>\n",
       "      <td>Auto Theft</td>\n",
       "      <td>...</td>\n",
       "      <td>64126</td>\n",
       "      <td>PJ7474</td>\n",
       "      <td>EPD</td>\n",
       "      <td>U</td>\n",
       "      <td>SUS</td>\n",
       "      <td>U</td>\n",
       "      <td>U</td>\n",
       "      <td>NaN</td>\n",
       "      <td>N</td>\n",
       "      <td>POINT (-94.5516 39.0947)</td>\n",
       "    </tr>\n",
       "    <tr>\n",
       "      <th>4</th>\n",
       "      <td>150033873</td>\n",
       "      <td>05/19/2015</td>\n",
       "      <td>0:21</td>\n",
       "      <td>05/19/2015</td>\n",
       "      <td>0:21</td>\n",
       "      <td>NaN</td>\n",
       "      <td>NaN</td>\n",
       "      <td>1849</td>\n",
       "      <td>35A</td>\n",
       "      <td>Possession/Sale/Dist</td>\n",
       "      <td>...</td>\n",
       "      <td>64128</td>\n",
       "      <td>PJ2340</td>\n",
       "      <td>EPD</td>\n",
       "      <td>U</td>\n",
       "      <td>VIC</td>\n",
       "      <td>NaN</td>\n",
       "      <td>NaN</td>\n",
       "      <td>NaN</td>\n",
       "      <td>N</td>\n",
       "      <td>POINT (-94.5461 39.0735)</td>\n",
       "    </tr>\n",
       "    <tr>\n",
       "      <th>5</th>\n",
       "      <td>150061779</td>\n",
       "      <td>08/31/2015</td>\n",
       "      <td>10:28</td>\n",
       "      <td>08/31/2015</td>\n",
       "      <td>8:00</td>\n",
       "      <td>NaN</td>\n",
       "      <td>NaN</td>\n",
       "      <td>801</td>\n",
       "      <td>13B</td>\n",
       "      <td>Non Aggravated Assau</td>\n",
       "      <td>...</td>\n",
       "      <td>61109</td>\n",
       "      <td>PJ1326</td>\n",
       "      <td>CPD</td>\n",
       "      <td>N</td>\n",
       "      <td>SUS</td>\n",
       "      <td>B</td>\n",
       "      <td>M</td>\n",
       "      <td>29.0</td>\n",
       "      <td>N</td>\n",
       "      <td>POINT (-89.0251 42.2167)</td>\n",
       "    </tr>\n",
       "    <tr>\n",
       "      <th>6</th>\n",
       "      <td>150087307</td>\n",
       "      <td>12/04/2015</td>\n",
       "      <td>2:57</td>\n",
       "      <td>12/04/2015</td>\n",
       "      <td>2:57</td>\n",
       "      <td>NaN</td>\n",
       "      <td>NaN</td>\n",
       "      <td>2601</td>\n",
       "      <td>90Z</td>\n",
       "      <td>Misc Violation</td>\n",
       "      <td>...</td>\n",
       "      <td>64108</td>\n",
       "      <td>PJ1326</td>\n",
       "      <td>CPD</td>\n",
       "      <td>U</td>\n",
       "      <td>VIC</td>\n",
       "      <td>NaN</td>\n",
       "      <td>NaN</td>\n",
       "      <td>NaN</td>\n",
       "      <td>N</td>\n",
       "      <td>POINT (-94.5645 39.0952)</td>\n",
       "    </tr>\n",
       "  </tbody>\n",
       "</table>\n",
       "<p>5 rows × 23 columns</p>\n",
       "</div>"
      ],
      "text/plain": [
       "   Report_No Reported_Date Reported_Time   From_Date From_Time To_Date  \\\n",
       "0  150015427    03/06/2015          0:02  03/06/2015      0:02     NaN   \n",
       "3  150057463    09/08/2015          1:17  09/08/2015      1:17     NaN   \n",
       "4  150033873    05/19/2015          0:21  05/19/2015      0:21     NaN   \n",
       "5  150061779    08/31/2015         10:28  08/31/2015      8:00     NaN   \n",
       "6  150087307    12/04/2015          2:57  12/04/2015      2:57     NaN   \n",
       "\n",
       "  To_Time Offense IBRS           Description  ... Zip Code Rep_Dist Area  \\\n",
       "0     NaN    2601  90Z        Misc Violation  ...    64131   PJ3229  CPD   \n",
       "3     NaN     702  240            Auto Theft  ...    64126   PJ7474  EPD   \n",
       "4     NaN    1849  35A  Possession/Sale/Dist  ...    64128   PJ2340  EPD   \n",
       "5     NaN     801  13B  Non Aggravated Assau  ...    61109   PJ1326  CPD   \n",
       "6     NaN    2601  90Z        Misc Violation  ...    64108   PJ1326  CPD   \n",
       "\n",
       "  DVFlag Involvement Race  Sex   Age Firearm Used Flag  \\\n",
       "0      U         VIC  NaN  NaN   NaN                 N   \n",
       "3      U         SUS    U    U   NaN                 N   \n",
       "4      U         VIC  NaN  NaN   NaN                 N   \n",
       "5      N         SUS    B    M  29.0                 N   \n",
       "6      U         VIC  NaN  NaN   NaN                 N   \n",
       "\n",
       "                   Location  \n",
       "0  POINT (-94.5767 38.9767)  \n",
       "3  POINT (-94.5516 39.0947)  \n",
       "4  POINT (-94.5461 39.0735)  \n",
       "5  POINT (-89.0251 42.2167)  \n",
       "6  POINT (-94.5645 39.0952)  \n",
       "\n",
       "[5 rows x 23 columns]"
      ]
     },
     "execution_count": 34,
     "metadata": {},
     "output_type": "execute_result"
    }
   ],
   "source": [
    "merged_df.head()"
   ]
  },
  {
   "cell_type": "code",
   "execution_count": 35,
   "metadata": {},
   "outputs": [
    {
     "name": "stdout",
     "output_type": "stream",
     "text": [
      "<class 'pandas.core.frame.DataFrame'>\n",
      "Index: 1093640 entries, 0 to 80178\n",
      "Data columns (total 23 columns):\n",
      " #   Column             Non-Null Count    Dtype  \n",
      "---  ------             --------------    -----  \n",
      " 0   Report_No          1093640 non-null  object \n",
      " 1   Reported_Date      1093640 non-null  object \n",
      " 2   Reported_Time      1093640 non-null  object \n",
      " 3   From_Date          1092624 non-null  object \n",
      " 4   From_Time          1092199 non-null  object \n",
      " 5   To_Date            431633 non-null   object \n",
      " 6   To_Time            390011 non-null   object \n",
      " 7   Offense            1093640 non-null  object \n",
      " 8   IBRS               1029730 non-null  object \n",
      " 9   Description        1008161 non-null  object \n",
      " 10  Beat               1089226 non-null  object \n",
      " 11  Address            1093570 non-null  object \n",
      " 12  City               1093524 non-null  object \n",
      " 13  Zip Code           1046564 non-null  object \n",
      " 14  Rep_Dist           978663 non-null   object \n",
      " 15  Area               1088156 non-null  object \n",
      " 16  DVFlag             1093640 non-null  object \n",
      " 17  Involvement        1093640 non-null  object \n",
      " 18  Race               945431 non-null   object \n",
      " 19  Sex                952638 non-null   object \n",
      " 20  Age                706443 non-null   float64\n",
      " 21  Firearm Used Flag  1093640 non-null  object \n",
      " 22  Location           1027114 non-null  object \n",
      "dtypes: float64(1), object(22)\n",
      "memory usage: 200.3+ MB\n"
     ]
    }
   ],
   "source": [
    "merged_df.info()"
   ]
  },
  {
   "cell_type": "code",
   "execution_count": 36,
   "metadata": {},
   "outputs": [
    {
     "name": "stdout",
     "output_type": "stream",
     "text": [
      "Report_No                 0\n",
      "Reported_Date             0\n",
      "Reported_Time             0\n",
      "From_Date              1016\n",
      "From_Time              1441\n",
      "To_Date              662007\n",
      "To_Time              703629\n",
      "Offense                   0\n",
      "IBRS                  63910\n",
      "Description           85479\n",
      "Beat                   4414\n",
      "Address                  70\n",
      "City                    116\n",
      "Zip Code              47076\n",
      "Rep_Dist             114977\n",
      "Area                   5484\n",
      "DVFlag                    0\n",
      "Involvement               0\n",
      "Race                 148209\n",
      "Sex                  141002\n",
      "Age                  387197\n",
      "Firearm Used Flag         0\n",
      "Location              66526\n",
      "dtype: int64\n"
     ]
    }
   ],
   "source": [
    "merged_df_missing_values = merged_df.isnull().sum()\n",
    "print(merged_df_missing_values)"
   ]
  },
  {
   "cell_type": "markdown",
   "metadata": {},
   "source": [
    "> Checkout rows with empty location"
   ]
  },
  {
   "cell_type": "code",
   "execution_count": 37,
   "metadata": {},
   "outputs": [
    {
     "data": {
      "text/html": [
       "<div>\n",
       "<style scoped>\n",
       "    .dataframe tbody tr th:only-of-type {\n",
       "        vertical-align: middle;\n",
       "    }\n",
       "\n",
       "    .dataframe tbody tr th {\n",
       "        vertical-align: top;\n",
       "    }\n",
       "\n",
       "    .dataframe thead th {\n",
       "        text-align: right;\n",
       "    }\n",
       "</style>\n",
       "<table border=\"1\" class=\"dataframe\">\n",
       "  <thead>\n",
       "    <tr style=\"text-align: right;\">\n",
       "      <th></th>\n",
       "      <th>Address</th>\n",
       "      <th>City</th>\n",
       "      <th>Zip Code</th>\n",
       "      <th>Location</th>\n",
       "    </tr>\n",
       "  </thead>\n",
       "  <tbody>\n",
       "    <tr>\n",
       "      <th>0</th>\n",
       "      <td>8500  STATE LINE RD</td>\n",
       "      <td>KANSAS CITY</td>\n",
       "      <td>64114.0</td>\n",
       "      <td>NaN</td>\n",
       "    </tr>\n",
       "    <tr>\n",
       "      <th>1</th>\n",
       "      <td>00  NE TUDOR LN</td>\n",
       "      <td>LEES SUMMIT</td>\n",
       "      <td>NaN</td>\n",
       "      <td>NaN</td>\n",
       "    </tr>\n",
       "    <tr>\n",
       "      <th>2</th>\n",
       "      <td>1200  E 63RD ST</td>\n",
       "      <td>KANSAS CITY</td>\n",
       "      <td>64132.0</td>\n",
       "      <td>NaN</td>\n",
       "    </tr>\n",
       "    <tr>\n",
       "      <th>3</th>\n",
       "      <td>9400  MCKINLEY AVE</td>\n",
       "      <td>KANSAS CITY</td>\n",
       "      <td>64138.0</td>\n",
       "      <td>NaN</td>\n",
       "    </tr>\n",
       "    <tr>\n",
       "      <th>4</th>\n",
       "      <td>700  LINWOOD BL</td>\n",
       "      <td>KANSAS CITY</td>\n",
       "      <td>NaN</td>\n",
       "      <td>NaN</td>\n",
       "    </tr>\n",
       "    <tr>\n",
       "      <th>...</th>\n",
       "      <td>...</td>\n",
       "      <td>...</td>\n",
       "      <td>...</td>\n",
       "      <td>...</td>\n",
       "    </tr>\n",
       "    <tr>\n",
       "      <th>61546</th>\n",
       "      <td>UNKNOWN UNKNOWN</td>\n",
       "      <td>UNKNOWN</td>\n",
       "      <td>NaN</td>\n",
       "      <td>NaN</td>\n",
       "    </tr>\n",
       "    <tr>\n",
       "      <th>62260</th>\n",
       "      <td>6900  WALROND AVE</td>\n",
       "      <td>KANSAS CIY</td>\n",
       "      <td>NaN</td>\n",
       "      <td>NaN</td>\n",
       "    </tr>\n",
       "    <tr>\n",
       "      <th>63605</th>\n",
       "      <td>U00  UNK</td>\n",
       "      <td>UNK</td>\n",
       "      <td>NaN</td>\n",
       "      <td>NaN</td>\n",
       "    </tr>\n",
       "    <tr>\n",
       "      <th>65155</th>\n",
       "      <td>UNKNOWN and UNKNOWN</td>\n",
       "      <td>KANSAS CITY</td>\n",
       "      <td>NaN</td>\n",
       "      <td>NaN</td>\n",
       "    </tr>\n",
       "    <tr>\n",
       "      <th>70732</th>\n",
       "      <td>UNKNOWN and UNKNOWN</td>\n",
       "      <td>KANSAS CITY</td>\n",
       "      <td>NaN</td>\n",
       "      <td>NaN</td>\n",
       "    </tr>\n",
       "  </tbody>\n",
       "</table>\n",
       "<p>66526 rows × 4 columns</p>\n",
       "</div>"
      ],
      "text/plain": [
       "                   Address         City Zip Code Location\n",
       "0      8500  STATE LINE RD  KANSAS CITY  64114.0      NaN\n",
       "1          00  NE TUDOR LN  LEES SUMMIT      NaN      NaN\n",
       "2          1200  E 63RD ST  KANSAS CITY  64132.0      NaN\n",
       "3       9400  MCKINLEY AVE  KANSAS CITY  64138.0      NaN\n",
       "4          700  LINWOOD BL  KANSAS CITY      NaN      NaN\n",
       "...                    ...          ...      ...      ...\n",
       "61546      UNKNOWN UNKNOWN      UNKNOWN      NaN      NaN\n",
       "62260    6900  WALROND AVE   KANSAS CIY      NaN      NaN\n",
       "63605             U00  UNK          UNK      NaN      NaN\n",
       "65155  UNKNOWN and UNKNOWN  KANSAS CITY      NaN      NaN\n",
       "70732  UNKNOWN and UNKNOWN  KANSAS CITY      NaN      NaN\n",
       "\n",
       "[66526 rows x 4 columns]"
      ]
     },
     "execution_count": 37,
     "metadata": {},
     "output_type": "execute_result"
    }
   ],
   "source": [
    "null_rows = merged_df[merged_df['Location'].isnull()]\n",
    "null_rows[[\"Address\", \"City\", \"Zip Code\", \"Location\"]]"
   ]
  },
  {
   "cell_type": "code",
   "execution_count": 38,
   "metadata": {},
   "outputs": [],
   "source": [
    "merged_df = merged_df[merged_df['Location'].notnull()]"
   ]
  },
  {
   "cell_type": "code",
   "execution_count": 39,
   "metadata": {},
   "outputs": [
    {
     "name": "stdout",
     "output_type": "stream",
     "text": [
      "Report_No                 0\n",
      "Reported_Date             0\n",
      "Reported_Time             0\n",
      "From_Date               979\n",
      "From_Time              1398\n",
      "To_Date              619397\n",
      "To_Time              659244\n",
      "Offense                   0\n",
      "IBRS                  53962\n",
      "Description           68129\n",
      "Beat                   3855\n",
      "Address                  51\n",
      "City                     96\n",
      "Zip Code              42296\n",
      "Rep_Dist              96273\n",
      "Area                   4729\n",
      "DVFlag                    0\n",
      "Involvement               0\n",
      "Race                 138193\n",
      "Sex                  131901\n",
      "Age                  368813\n",
      "Firearm Used Flag         0\n",
      "Location                  0\n",
      "dtype: int64\n"
     ]
    }
   ],
   "source": [
    "merged_df_missing_values = merged_df.isnull().sum()\n",
    "print(merged_df_missing_values)"
   ]
  },
  {
   "cell_type": "markdown",
   "metadata": {},
   "source": [
    "> reformat some location coordinates"
   ]
  },
  {
   "cell_type": "code",
   "execution_count": 40,
   "metadata": {},
   "outputs": [],
   "source": [
    "# Function to reformat coordinates using regex\n",
    "def reformat_coordinates(coord):\n",
    "    # Define the regex pattern to match the latitude and longitude\n",
    "    pattern = r'\\(([-+]?[0-9]*\\.?[0-9]+),\\s*([-+]?[0-9]*\\.?[0-9]+)\\)'\n",
    "    # Search for the pattern in the coordinate string\n",
    "    match = re.search(pattern, coord)\n",
    "    if match:\n",
    "        # Extract latitude and longitude from the match\n",
    "        latitude = match.group(1)\n",
    "        longitude = match.group(2)\n",
    "        # Return the formatted POINT string\n",
    "        return f'POINT ({longitude} {latitude})'\n",
    "    return coord  # Return original if no match found\n",
    "\n",
    "# Apply the function to the DataFrame\n",
    "merged_df['Location'] = merged_df['Location'].apply(reformat_coordinates)"
   ]
  },
  {
   "cell_type": "code",
   "execution_count": 41,
   "metadata": {},
   "outputs": [
    {
     "name": "stdout",
     "output_type": "stream",
     "text": [
      "8613 rows have no coordinates or they are not formatted correctly\n"
     ]
    }
   ],
   "source": [
    "counter = 0\n",
    "for i in merged_df['Location'].unique():\n",
    "    if not i.startswith(\"POINT\"):\n",
    "        counter+=1\n",
    "print(counter, \"rows have no coordinates or they are not formatted correctly\")"
   ]
  },
  {
   "cell_type": "markdown",
   "metadata": {},
   "source": [
    "> deleting the not correctly formatted rows"
   ]
  },
  {
   "cell_type": "code",
   "execution_count": 42,
   "metadata": {},
   "outputs": [],
   "source": [
    "merged_df = merged_df[merged_df['Location'].str.startswith(\"POINT\")]"
   ]
  },
  {
   "cell_type": "markdown",
   "metadata": {},
   "source": [
    "# Export"
   ]
  },
  {
   "cell_type": "code",
   "execution_count": 43,
   "metadata": {},
   "outputs": [],
   "source": [
    "merged_df.to_csv(\"..\\\\data\\\\mergedData\\\\merged_df.csv\")"
   ]
  }
 ],
 "metadata": {
  "kernelspec": {
   "display_name": "fhgr",
   "language": "python",
   "name": "python3"
  },
  "language_info": {
   "codemirror_mode": {
    "name": "ipython",
    "version": 3
   },
   "file_extension": ".py",
   "mimetype": "text/x-python",
   "name": "python",
   "nbconvert_exporter": "python",
   "pygments_lexer": "ipython3",
   "version": "3.12.6"
  }
 },
 "nbformat": 4,
 "nbformat_minor": 2
}
