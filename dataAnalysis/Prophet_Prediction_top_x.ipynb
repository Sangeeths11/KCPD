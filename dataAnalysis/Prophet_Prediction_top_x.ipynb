{
 "cells": [
  {
   "cell_type": "code",
   "execution_count": null,
   "metadata": {},
   "outputs": [],
   "source": [
    "from prophet import Prophet\n",
    "import pandas as pd\n",
    "import numpy as np\n",
    "import os\n",
    "import pickle\n",
    "import tqdm\n",
    "from PIL import Image\n",
    "import matplotlib.pyplot as plt\n",
    "from sklearn.metrics import mean_squared_error\n",
    "from math import sqrt\n",
    "import seaborn as sns\n",
    "from collections import defaultdict\n",
    "import warnings\n",
    "warnings.simplefilter(action='ignore', category=FutureWarning)"
   ]
  },
  {
   "cell_type": "code",
   "execution_count": null,
   "metadata": {},
   "outputs": [],
   "source": [
    "TOP_X_CRIMES = 10 "
   ]
  },
  {
   "cell_type": "code",
   "execution_count": null,
   "metadata": {},
   "outputs": [],
   "source": [
    "path = '..\\\\data\\\\mergedData\\\\ts_df.csv'\n",
    "ts_df = pd.read_csv(path)\n",
    "ts_df = ts_df.loc[:, ~ts_df.columns.str.contains('^Unnamed')]\n",
    "ts_df.head()"
   ]
  },
  {
   "cell_type": "code",
   "execution_count": null,
   "metadata": {},
   "outputs": [],
   "source": [
    "dist_ids = ts_df.dist_id.unique()\n",
    "dist_ids = sorted(dist_ids)\n",
    "print(\"dist_ids\", dist_ids)\n",
    "num_dists = len(dist_ids)\n",
    "print(\"num_dists\", num_dists)"
   ]
  },
  {
   "cell_type": "code",
   "execution_count": null,
   "metadata": {},
   "outputs": [],
   "source": [
    "cluster_names = ts_df.Cluster_Name.unique()\n",
    "cluster_names = sorted(cluster_names)\n",
    "print(\"cluster_names\", cluster_names)\n",
    "num_cluster_names = len(cluster_names)\n",
    "print(\"num_cluster_names\", num_cluster_names)"
   ]
  },
  {
   "cell_type": "code",
   "execution_count": null,
   "metadata": {},
   "outputs": [],
   "source": [
    "crime_dist_dfs = {}\n",
    "for i, dist_id in enumerate(dist_ids):\n",
    "    # Filter data for this district\n",
    "    dist_data = ts_df[ts_df['dist_id'] == dist_id]\n",
    "    crime_dist_dfs[dist_id] = {}\n",
    "    for i, cluster_name in enumerate(cluster_names):\n",
    "        crime_data = dist_data[dist_data['Cluster_Name'] == cluster_name]\n",
    "        # Prepare ts data and split\n",
    "        train = crime_data.loc[crime_data.Reported_Date < \"2024-01-01\"]\n",
    "        test = crime_data.loc[crime_data.Reported_Date >= \"2024-01-01\"]\n",
    "        train = train.groupby(\"Reported_Date\").size().reset_index(name='Crime_Count')\n",
    "        test = test.groupby(\"Reported_Date\").size().reset_index(name='Crime_Count')\n",
    "        train.index = pd.to_datetime(train.Reported_Date)\n",
    "        test.index = pd.to_datetime(test.Reported_Date)\n",
    "        train = train.asfreq('d', fill_value=0)\n",
    "        test = test.asfreq('d', fill_value=0)\n",
    "        train = train.drop(columns=['Reported_Date'])\n",
    "        test = test.drop(columns=['Reported_Date'])\n",
    "        # Save final dict\n",
    "        crime_dist_dfs[dist_id][cluster_name] = {\n",
    "            \"train\": train,\n",
    "            \"test\": test\n",
    "        }"
   ]
  },
  {
   "cell_type": "code",
   "execution_count": null,
   "metadata": {},
   "outputs": [],
   "source": [
    "print(f\"number of datasets in dict: {num_dists*num_cluster_names}\")\n",
    "print(f\"districts in dict: {crime_dist_dfs.keys()}\")\n",
    "print(f\"crimes in dict: {crime_dist_dfs[1.0].keys()}\")\n",
    "print(f\"test/train in dict: {crime_dist_dfs[1.0]['Alcohol Influence'].keys()}\")"
   ]
  },
  {
   "cell_type": "code",
   "execution_count": null,
   "metadata": {},
   "outputs": [],
   "source": [
    "crime_dist_dfs[1.0]['Alcohol Influence'][\"train\"].head()"
   ]
  },
  {
   "cell_type": "code",
   "execution_count": null,
   "metadata": {},
   "outputs": [],
   "source": [
    "def get_top_x_crimes(crime_dist_dfs, X = 10):\n",
    "    # Step 1: Aggregate crime counts across dates and districts\n",
    "    total_crime_counts = defaultdict(int)\n",
    "\n",
    "    for district, crimes in crime_dist_dfs.items():\n",
    "        for crime, data_dict in crimes.items():\n",
    "            # Sum the Crime_Count column for the 'train' DataFrame of each crime\n",
    "            total_crime_counts[crime] += data_dict[\"train\"][\"Crime_Count\"].sum()\n",
    "\n",
    "    # Step 2: Sort crimes by count in descending order and extract the top X crimes\n",
    "    X = X  # Specify the number of top crimes to retrieve\n",
    "    top_crimes_set = sorted(total_crime_counts.items(), key=lambda x: x[1], reverse=True)[:X]\n",
    "    \n",
    "    top_crimes = []\n",
    "    # Display the top X crimes\n",
    "    for crime, count in top_crimes_set:\n",
    "        print(f\"{crime}: {count}\")\n",
    "        top_crimes.append(crime)\n",
    "\n",
    "    # Step 3: Filter `crime_dist_dfs` to retain only the top X crimes\n",
    "    filtered_crime_dist_dfs = {\n",
    "        district: {crime: data_dict for crime, data_dict in crimes.items() if crime in top_crimes}\n",
    "        for district, crimes in crime_dist_dfs.items()\n",
    "    }\n",
    "\n",
    "    # `filtered_crime_dist_dfs` now contains only the top X crimes\n",
    "    return filtered_crime_dist_dfs"
   ]
  },
  {
   "cell_type": "code",
   "execution_count": null,
   "metadata": {},
   "outputs": [],
   "source": [
    "crime_dist_dfs = get_top_x_crimes(crime_dist_dfs, X = TOP_X_CRIMES)"
   ]
  },
  {
   "cell_type": "code",
   "execution_count": null,
   "metadata": {},
   "outputs": [
    {
     "name": "stderr",
     "output_type": "stream",
     "text": [
      "Processing District 1.0:   0%|          | 0/10 [00:00<?, ?it/s]09:21:23 - cmdstanpy - INFO - Chain [1] start processing\n",
      "09:21:23 - cmdstanpy - INFO - Chain [1] done processing\n",
      "Processing District 1.0:  10%|█         | 1/10 [00:02<00:20,  2.24s/it]"
     ]
    },
    {
     "name": "stdout",
     "output_type": "stream",
     "text": [
      "Prophet model failed for district 1.0, crime Aggravated Assault with error: Input contains NaN.\n"
     ]
    },
    {
     "name": "stderr",
     "output_type": "stream",
     "text": [
      "09:21:25 - cmdstanpy - INFO - Chain [1] start processing\n",
      "09:21:25 - cmdstanpy - INFO - Chain [1] done processing\n",
      "Processing District 1.0:  20%|██        | 2/10 [00:04<00:18,  2.31s/it]"
     ]
    },
    {
     "name": "stdout",
     "output_type": "stream",
     "text": [
      "Prophet model failed for district 1.0, crime Assault with error: Input contains NaN.\n"
     ]
    },
    {
     "name": "stderr",
     "output_type": "stream",
     "text": [
      "09:21:27 - cmdstanpy - INFO - Chain [1] start processing\n",
      "09:21:28 - cmdstanpy - INFO - Chain [1] done processing\n",
      "Processing District 1.0:  30%|███       | 3/10 [00:07<00:16,  2.39s/it]"
     ]
    },
    {
     "name": "stdout",
     "output_type": "stream",
     "text": [
      "Prophet model failed for district 1.0, crime Auto Theft with error: Input contains NaN.\n"
     ]
    },
    {
     "name": "stderr",
     "output_type": "stream",
     "text": [
      "09:21:30 - cmdstanpy - INFO - Chain [1] start processing\n",
      "09:21:30 - cmdstanpy - INFO - Chain [1] done processing\n",
      "Processing District 1.0:  40%|████      | 4/10 [00:09<00:14,  2.34s/it]"
     ]
    },
    {
     "name": "stdout",
     "output_type": "stream",
     "text": [
      "Prophet model failed for district 1.0, crime Burglary with error: Input contains NaN.\n"
     ]
    },
    {
     "name": "stderr",
     "output_type": "stream",
     "text": [
      "09:21:32 - cmdstanpy - INFO - Chain [1] start processing\n",
      "09:21:32 - cmdstanpy - INFO - Chain [1] done processing\n",
      "Processing District 1.0:  50%|█████     | 5/10 [00:11<00:11,  2.36s/it]"
     ]
    },
    {
     "name": "stdout",
     "output_type": "stream",
     "text": [
      "Prophet model failed for district 1.0, crime Domestic Assault with error: Input contains NaN.\n"
     ]
    },
    {
     "name": "stderr",
     "output_type": "stream",
     "text": [
      "09:21:34 - cmdstanpy - INFO - Chain [1] start processing\n",
      "09:21:34 - cmdstanpy - INFO - Chain [1] done processing\n",
      "Processing District 1.0:  60%|██████    | 6/10 [00:12<00:07,  1.96s/it]"
     ]
    },
    {
     "name": "stdout",
     "output_type": "stream",
     "text": [
      "Prophet model failed for district 1.0, crime Domestic Violence with error: Input contains NaN.\n"
     ]
    },
    {
     "name": "stderr",
     "output_type": "stream",
     "text": [
      "09:21:36 - cmdstanpy - INFO - Chain [1] start processing\n",
      "09:21:36 - cmdstanpy - INFO - Chain [1] done processing\n",
      "Processing District 1.0:  70%|███████   | 7/10 [00:15<00:06,  2.13s/it]"
     ]
    },
    {
     "name": "stdout",
     "output_type": "stream",
     "text": [
      "Prophet model failed for district 1.0, crime Property Damage with error: Input contains NaN.\n"
     ]
    },
    {
     "name": "stderr",
     "output_type": "stream",
     "text": [
      "09:21:38 - cmdstanpy - INFO - Chain [1] start processing\n",
      "09:21:38 - cmdstanpy - INFO - Chain [1] done processing\n",
      "Processing District 1.0:  80%|████████  | 8/10 [00:17<00:04,  2.17s/it]"
     ]
    },
    {
     "name": "stdout",
     "output_type": "stream",
     "text": [
      "Prophet model failed for district 1.0, crime Sexual Assault with error: Input contains NaN.\n"
     ]
    },
    {
     "name": "stderr",
     "output_type": "stream",
     "text": [
      "09:21:40 - cmdstanpy - INFO - Chain [1] start processing\n",
      "09:21:41 - cmdstanpy - INFO - Chain [1] done processing\n",
      "Processing District 1.0:  90%|█████████ | 9/10 [00:21<00:02,  2.69s/it]09:21:44 - cmdstanpy - INFO - Chain [1] start processing\n",
      "09:21:44 - cmdstanpy - INFO - Chain [1] done processing\n",
      "Processing District 2.0:   0%|          | 0/10 [00:00<?, ?it/s]         09:21:46 - cmdstanpy - INFO - Chain [1] start processing\n",
      "09:21:47 - cmdstanpy - INFO - Chain [1] done processing\n",
      "Processing District 2.0:  10%|█         | 1/10 [00:02<00:21,  2.34s/it]"
     ]
    },
    {
     "name": "stdout",
     "output_type": "stream",
     "text": [
      "Prophet model failed for district 2.0, crime Aggravated Assault with error: Input contains NaN.\n"
     ]
    },
    {
     "name": "stderr",
     "output_type": "stream",
     "text": [
      "09:21:48 - cmdstanpy - INFO - Chain [1] start processing\n",
      "09:21:49 - cmdstanpy - INFO - Chain [1] done processing\n",
      "Processing District 2.0:  20%|██        | 2/10 [00:04<00:19,  2.40s/it]"
     ]
    },
    {
     "name": "stdout",
     "output_type": "stream",
     "text": [
      "Prophet model failed for district 2.0, crime Assault with error: Input contains NaN.\n"
     ]
    },
    {
     "name": "stderr",
     "output_type": "stream",
     "text": [
      "09:21:51 - cmdstanpy - INFO - Chain [1] start processing\n",
      "09:21:51 - cmdstanpy - INFO - Chain [1] done processing\n",
      "Processing District 2.0:  30%|███       | 3/10 [00:07<00:17,  2.43s/it]"
     ]
    },
    {
     "name": "stdout",
     "output_type": "stream",
     "text": [
      "Prophet model failed for district 2.0, crime Auto Theft with error: Input contains NaN.\n"
     ]
    },
    {
     "name": "stderr",
     "output_type": "stream",
     "text": [
      "09:21:53 - cmdstanpy - INFO - Chain [1] start processing\n",
      "09:21:54 - cmdstanpy - INFO - Chain [1] done processing\n",
      "Processing District 2.0:  40%|████      | 4/10 [00:09<00:14,  2.35s/it]"
     ]
    },
    {
     "name": "stdout",
     "output_type": "stream",
     "text": [
      "Prophet model failed for district 2.0, crime Burglary with error: Input contains NaN.\n"
     ]
    },
    {
     "name": "stderr",
     "output_type": "stream",
     "text": [
      "09:21:56 - cmdstanpy - INFO - Chain [1] start processing\n",
      "09:21:56 - cmdstanpy - INFO - Chain [1] done processing\n",
      "Processing District 2.0:  50%|█████     | 5/10 [00:11<00:12,  2.40s/it]"
     ]
    },
    {
     "name": "stdout",
     "output_type": "stream",
     "text": [
      "Prophet model failed for district 2.0, crime Domestic Assault with error: Input contains NaN.\n"
     ]
    },
    {
     "name": "stderr",
     "output_type": "stream",
     "text": [
      "09:21:58 - cmdstanpy - INFO - Chain [1] start processing\n",
      "09:21:58 - cmdstanpy - INFO - Chain [1] done processing\n",
      "Processing District 2.0:  60%|██████    | 6/10 [00:13<00:08,  2.23s/it]09:22:00 - cmdstanpy - INFO - Chain [1] start processing\n",
      "09:22:01 - cmdstanpy - INFO - Chain [1] done processing\n",
      "Processing District 2.0:  70%|███████   | 7/10 [00:16<00:06,  2.32s/it]"
     ]
    },
    {
     "name": "stdout",
     "output_type": "stream",
     "text": [
      "Prophet model failed for district 2.0, crime Property Damage with error: Input contains NaN.\n"
     ]
    },
    {
     "name": "stderr",
     "output_type": "stream",
     "text": [
      "09:22:03 - cmdstanpy - INFO - Chain [1] start processing\n",
      "09:22:03 - cmdstanpy - INFO - Chain [1] done processing\n",
      "Processing District 2.0:  80%|████████  | 8/10 [00:18<00:04,  2.35s/it]"
     ]
    },
    {
     "name": "stdout",
     "output_type": "stream",
     "text": [
      "Prophet model failed for district 2.0, crime Sexual Assault with error: Input contains NaN.\n"
     ]
    },
    {
     "name": "stderr",
     "output_type": "stream",
     "text": [
      "09:22:05 - cmdstanpy - INFO - Chain [1] start processing\n",
      "09:22:05 - cmdstanpy - INFO - Chain [1] done processing\n",
      "Processing District 2.0:  90%|█████████ | 9/10 [00:21<00:02,  2.32s/it]"
     ]
    },
    {
     "name": "stdout",
     "output_type": "stream",
     "text": [
      "Prophet model failed for district 2.0, crime Shoplifting with error: Input contains NaN.\n"
     ]
    },
    {
     "name": "stderr",
     "output_type": "stream",
     "text": [
      "09:22:07 - cmdstanpy - INFO - Chain [1] start processing\n",
      "09:22:07 - cmdstanpy - INFO - Chain [1] done processing\n",
      "                                                                        \r"
     ]
    },
    {
     "name": "stdout",
     "output_type": "stream",
     "text": [
      "Prophet model failed for district 2.0, crime Stolen Auto with error: Input contains NaN.\n"
     ]
    },
    {
     "name": "stderr",
     "output_type": "stream",
     "text": [
      "Processing District 3.0:   0%|          | 0/10 [00:00<?, ?it/s]09:22:09 - cmdstanpy - INFO - Chain [1] start processing\n",
      "09:22:09 - cmdstanpy - INFO - Chain [1] done processing\n",
      "Processing District 3.0:  10%|█         | 1/10 [00:03<00:34,  3.78s/it]09:22:12 - cmdstanpy - INFO - Chain [1] start processing\n",
      "09:22:13 - cmdstanpy - INFO - Chain [1] done processing\n",
      "Processing District 3.0:  20%|██        | 2/10 [00:07<00:30,  3.80s/it]09:22:16 - cmdstanpy - INFO - Chain [1] start processing\n",
      "09:22:17 - cmdstanpy - INFO - Chain [1] done processing\n",
      "Processing District 3.0:  30%|███       | 3/10 [00:11<00:27,  3.97s/it]09:22:20 - cmdstanpy - INFO - Chain [1] start processing\n",
      "09:22:21 - cmdstanpy - INFO - Chain [1] done processing\n",
      "Processing District 3.0:  40%|████      | 4/10 [00:14<00:20,  3.39s/it]"
     ]
    },
    {
     "name": "stdout",
     "output_type": "stream",
     "text": [
      "Prophet model failed for district 3.0, crime Burglary with error: Input contains NaN.\n"
     ]
    },
    {
     "name": "stderr",
     "output_type": "stream",
     "text": [
      "09:22:23 - cmdstanpy - INFO - Chain [1] start processing\n",
      "09:22:23 - cmdstanpy - INFO - Chain [1] done processing\n",
      "Processing District 3.0:  50%|█████     | 5/10 [00:16<00:15,  3.04s/it]"
     ]
    },
    {
     "name": "stdout",
     "output_type": "stream",
     "text": [
      "Prophet model failed for district 3.0, crime Domestic Assault with error: Input contains NaN.\n"
     ]
    },
    {
     "name": "stderr",
     "output_type": "stream",
     "text": [
      "09:22:25 - cmdstanpy - INFO - Chain [1] start processing\n",
      "09:22:25 - cmdstanpy - INFO - Chain [1] done processing\n",
      "Processing District 3.0:  60%|██████    | 6/10 [00:18<00:10,  2.64s/it]09:22:27 - cmdstanpy - INFO - Chain [1] start processing\n",
      "09:22:28 - cmdstanpy - INFO - Chain [1] done processing\n",
      "Processing District 3.0:  70%|███████   | 7/10 [00:21<00:07,  2.60s/it]"
     ]
    },
    {
     "name": "stdout",
     "output_type": "stream",
     "text": [
      "Prophet model failed for district 3.0, crime Property Damage with error: Input contains NaN.\n"
     ]
    },
    {
     "name": "stderr",
     "output_type": "stream",
     "text": [
      "09:22:30 - cmdstanpy - INFO - Chain [1] start processing\n",
      "09:22:30 - cmdstanpy - INFO - Chain [1] done processing\n",
      "Processing District 3.0:  80%|████████  | 8/10 [00:24<00:06,  3.02s/it]09:22:33 - cmdstanpy - INFO - Chain [1] start processing\n",
      "09:22:34 - cmdstanpy - INFO - Chain [1] done processing\n",
      "Processing District 3.0:  90%|█████████ | 9/10 [00:27<00:02,  2.89s/it]"
     ]
    },
    {
     "name": "stdout",
     "output_type": "stream",
     "text": [
      "Prophet model failed for district 3.0, crime Shoplifting with error: Input contains NaN.\n"
     ]
    },
    {
     "name": "stderr",
     "output_type": "stream",
     "text": [
      "09:22:36 - cmdstanpy - INFO - Chain [1] start processing\n"
     ]
    }
   ],
   "source": [
    "# Loop through each district and crime category\n",
    "for dist_id, crimes in crime_dist_dfs.items():\n",
    "    for cluster_name, data_splits in tqdm.tqdm(crimes.items(), desc=f\"Processing District {dist_id}\", leave=False):\n",
    "        train = data_splits[\"train\"]\n",
    "        test = data_splits[\"test\"]\n",
    "\n",
    "        try:\n",
    "            # Prepare data for Prophet\n",
    "            train_data_prepared = train.reset_index().rename(columns={'Reported_Date': 'ds', 'Crime_Count': 'y'})\n",
    "            test_data_prepared = test.reset_index().rename(columns={'Reported_Date': 'ds', 'Crime_Count': 'y'})\n",
    "\n",
    "            # Ensure 'ds' is datetime\n",
    "            train_data_prepared['ds'] = pd.to_datetime(train_data_prepared['ds'])\n",
    "            test_data_prepared['ds'] = pd.to_datetime(test_data_prepared['ds'])\n",
    "\n",
    "            # check if train_data_prepared has NaN values\n",
    "            if train_data_prepared.isnull().values.any():\n",
    "                print(f\"NaN values in train_data_prepared for district {dist_id}, crime {cluster_name}\")\n",
    "\n",
    "            # Fit Prophet model\n",
    "            model = Prophet(yearly_seasonality=True, weekly_seasonality=True, daily_seasonality=False)\n",
    "            model.fit(train_data_prepared)\n",
    "\n",
    "            # Determine the number of predictions\n",
    "            n_predictions = len(test_data_prepared) if len(test_data_prepared) > 0 else 265\n",
    "\n",
    "            # Create future dataframe\n",
    "            future_dates = model.make_future_dataframe(periods=n_predictions, freq='D')\n",
    "            forecast = model.predict(future_dates)\n",
    "\n",
    "            # Extract the predicted values\n",
    "            predicted_values = forecast[['ds', 'yhat']]\n",
    "\n",
    "            # If test data is available, calculate RMSE\n",
    "            if len(test_data_prepared) > 0:\n",
    "                # Merge test_data and predicted_values on 'ds'\n",
    "                merged = test_data_prepared.merge(predicted_values, on='ds', how='left')\n",
    "                rmse = sqrt(mean_squared_error(merged['y'], merged['yhat']))\n",
    "                crime_dist_dfs[dist_id][cluster_name][\"model_config\"] = {\"rmse\": rmse}\n",
    "            else:\n",
    "                crime_dist_dfs[dist_id][cluster_name][\"model_config\"] = {\"rmse\": None}\n",
    "\n",
    "            # Save forecast and residuals\n",
    "            crime_dist_dfs[dist_id][cluster_name][\"forecast\"] = forecast\n",
    "            residuals = train_data_prepared['y'] - model.predict(train_data_prepared)['yhat']\n",
    "            crime_dist_dfs[dist_id][cluster_name][\"residuals\"] = residuals\n",
    "\n",
    "        except Exception as e:\n",
    "            print(f\"Prophet model failed for district {dist_id}, crime {cluster_name} with error: {e}\")\n",
    "            crime_dist_dfs[dist_id][cluster_name][\"model_config\"] = None\n"
   ]
  },
  {
   "cell_type": "code",
   "execution_count": null,
   "metadata": {},
   "outputs": [],
   "source": [
    "def plot_crime_forecast(train_data, test_data, forecast_data, crime_type=\"Unknown Crime\", district_id=\"Unknown District\"):\n",
    "    plt.figure(figsize=(20, 6))\n",
    "\n",
    "    # Plot training data\n",
    "    plt.plot(train_data['ds'], train_data['y'], label=\"Training Data\", color=\"blue\")\n",
    "\n",
    "    # Plot test data\n",
    "    if len(test_data) > 0:\n",
    "        plt.plot(test_data['ds'], test_data['y'], label=\"Test Data (Actual)\", color=\"green\")\n",
    "\n",
    "    # Plot forecast data\n",
    "    plt.plot(forecast_data['ds'], forecast_data['yhat'], label=\"Predictions\", color=\"red\", linestyle=\"--\")\n",
    "\n",
    "    # Formatting the plot\n",
    "    plt.title(f\"Crime Forecast for {crime_type} in District {district_id}\")\n",
    "    plt.xlabel(\"Date\")\n",
    "    plt.ylabel(\"Number of Crimes\")\n",
    "    plt.legend(loc=\"upper left\")\n",
    "    plt.grid(True)\n",
    "    plt.show()"
   ]
  },
  {
   "cell_type": "code",
   "execution_count": null,
   "metadata": {},
   "outputs": [],
   "source": [
    "district = 5.0\n",
    "crime_name = 'Auto Theft'\n",
    "\n",
    "# Prepare data for plotting\n",
    "train_data = crime_dist_dfs[district][crime_name][\"train\"].reset_index().rename(columns={'Reported_Date': 'ds', 'Crime_Count': 'y'})\n",
    "test_data = crime_dist_dfs[district][crime_name][\"test\"].reset_index().rename(columns={'Reported_Date': 'ds', 'Crime_Count': 'y'})\n",
    "forecast_data = crime_dist_dfs[district][crime_name][\"forecast\"]\n",
    "\n",
    "plot_crime_forecast(train_data, test_data, forecast_data, crime_type=crime_name, district_id=district)\n"
   ]
  },
  {
   "cell_type": "code",
   "execution_count": null,
   "metadata": {},
   "outputs": [],
   "source": [
    "def plot_rmse_heatmap(crime_dist_dfs):\n",
    "    \"\"\"\n",
    "    Function to create a heatmap plot of RMSE values for crimes across districts\n",
    "    \"\"\"\n",
    "    # Initialize an empty dictionary to hold RMSE values\n",
    "    rmse_data = {\n",
    "        \"District\": [],\n",
    "        \"Crime\": [],\n",
    "        \"RMSE\": []\n",
    "    }\n",
    "    \n",
    "    # Collect RMSE values for each crime in each district\n",
    "    for dist_id, crimes in crime_dist_dfs.items():\n",
    "        for crime_name, crime_info in crimes.items():\n",
    "            if crime_info.get(\"model_config\") and crime_info[\"model_config\"].get(\"rmse\") is not None:\n",
    "                rmse_data[\"District\"].append(dist_id)\n",
    "                rmse_data[\"Crime\"].append(crime_name)\n",
    "                rmse_data[\"RMSE\"].append(crime_info[\"model_config\"][\"rmse\"])\n",
    "    \n",
    "    # Create a DataFrame from the collected RMSE data\n",
    "    rmse_df = pd.DataFrame(rmse_data)\n",
    "    rmse_pivot = rmse_df.pivot(index=\"Crime\", columns=\"District\", values=\"RMSE\")\n",
    "    \n",
    "    # Plot the heatmap\n",
    "    plt.figure(figsize=(10, 8))\n",
    "    sns.heatmap(rmse_pivot, annot=True, fmt=\".2f\", cmap=\"coolwarm\", cbar_kws={'label': 'RMSE'})\n",
    "    plt.title(\"RMSE of Crime Predictions by District and Crime Category\")\n",
    "    plt.xlabel(\"District\")\n",
    "    plt.ylabel(\"Crime Category\")\n",
    "    plt.tight_layout()\n",
    "    plt.show()\n",
    "\n"
   ]
  },
  {
   "cell_type": "code",
   "execution_count": null,
   "metadata": {},
   "outputs": [],
   "source": [
    "plot_rmse_heatmap(crime_dist_dfs)"
   ]
  },
  {
   "cell_type": "code",
   "execution_count": null,
   "metadata": {},
   "outputs": [],
   "source": [
    "with open(f\"..\\\\data\\\\mergedData\\\\crime_dist_dfs_prophet_top_{TOP_X_CRIMES}.pkl\", 'wb') as file:\n",
    "    pickle.dump(crime_dist_dfs, file)\n"
   ]
  }
 ],
 "metadata": {
  "kernelspec": {
   "display_name": "fhgr",
   "language": "python",
   "name": "python3"
  },
  "language_info": {
   "codemirror_mode": {
    "name": "ipython",
    "version": 3
   },
   "file_extension": ".py",
   "mimetype": "text/x-python",
   "name": "python",
   "nbconvert_exporter": "python",
   "pygments_lexer": "ipython3",
   "version": "3.10.9"
  }
 },
 "nbformat": 4,
 "nbformat_minor": 2
}
