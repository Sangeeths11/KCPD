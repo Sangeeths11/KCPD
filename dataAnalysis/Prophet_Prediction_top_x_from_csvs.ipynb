{
 "cells": [
  {
   "cell_type": "code",
   "execution_count": 1,
   "metadata": {},
   "outputs": [
    {
     "name": "stderr",
     "output_type": "stream",
     "text": [
      "c:\\Users\\leand\\anaconda3\\envs\\ts_cds122\\Lib\\site-packages\\tqdm\\auto.py:21: TqdmWarning: IProgress not found. Please update jupyter and ipywidgets. See https://ipywidgets.readthedocs.io/en/stable/user_install.html\n",
      "  from .autonotebook import tqdm as notebook_tqdm\n",
      "Importing plotly failed. Interactive plots will not work.\n"
     ]
    }
   ],
   "source": [
    "from prophet import Prophet\n",
    "import pandas as pd\n",
    "import numpy as np\n",
    "import os\n",
    "import pickle\n",
    "import tqdm\n",
    "from PIL import Image\n",
    "import matplotlib.pyplot as plt\n",
    "from sklearn.metrics import root_mean_squared_error\n",
    "from math import sqrt\n",
    "import seaborn as sns\n",
    "from collections import defaultdict\n",
    "import warnings\n",
    "# Disable Prophet logging info messages\n",
    "import logging\n",
    "cmdstanpy_logger = logging.getLogger(\"cmdstanpy\")\n",
    "cmdstanpy_logger.disabled = True"
   ]
  },
  {
   "cell_type": "code",
   "execution_count": 2,
   "metadata": {},
   "outputs": [],
   "source": [
    "basepath = '..\\\\data\\\\top_10_crimes'"
   ]
  },
  {
   "cell_type": "code",
   "execution_count": 3,
   "metadata": {},
   "outputs": [
    {
     "name": "stdout",
     "output_type": "stream",
     "text": [
      "districts: ['1.0', '2.0', '3.0', '4.0', '5.0', '6.0']\n",
      "crimes: ['Aggravated Assault', 'Assault', 'Auto Theft', 'Burglary', 'Domestic Assault', 'Domestic Violence', 'Property Damage', 'Sexual Assault', 'Shoplifting', 'Stolen Auto']\n"
     ]
    }
   ],
   "source": [
    "districts = os.listdir(basepath)\n",
    "crimes = os.listdir(os.path.join(basepath, districts[0]))\n",
    "\n",
    "print(f\"districts: {districts}\")\n",
    "print(f\"crimes: {crimes}\")"
   ]
  },
  {
   "cell_type": "code",
   "execution_count": 4,
   "metadata": {},
   "outputs": [],
   "source": [
    "df = pd.read_csv(os.path.join(basepath, \"1.0\", \"Aggravated Assault\", \"test.csv\"))"
   ]
  },
  {
   "cell_type": "code",
   "execution_count": 5,
   "metadata": {},
   "outputs": [],
   "source": [
    "def plot_crime_forecast(train_data, test_data, forecast_data, path, crime_type=\"Unknown Crime\", district_id=\"Unknown District\", plot_train_aswell = False):\n",
    "    plt.figure(figsize=(20, 6))\n",
    "\n",
    "    if plot_train_aswell:\n",
    "        # Plot training data\n",
    "        plt.plot(train_data['ds'], train_data['y'], label=\"Training Data\", color=\"blue\")\n",
    "\n",
    "    # Plot test data if it exists\n",
    "    if len(test_data) > 0:\n",
    "        plt.plot(test_data['ds'], test_data['y'], label=\"Test Data (Actual)\", color=\"green\")\n",
    "\n",
    "    # Plot forecasted trend line\n",
    "    plt.plot(forecast_data['ds'], forecast_data['trend'], label=\"Forecast Trend\", color=\"purple\")\n",
    "\n",
    "    # Plot forecast data (mean predictions)\n",
    "    plt.plot(forecast_data['ds'], forecast_data['yhat'], label=\"Predictions\", color=\"red\", linestyle=\"--\")\n",
    "\n",
    "    # Plot the uncertainty interval\n",
    "    plt.fill_between(\n",
    "        forecast_data['ds'], \n",
    "        forecast_data['yhat_lower'], \n",
    "        forecast_data['yhat_upper'], \n",
    "        color=\"pink\", \n",
    "        alpha=0.3, \n",
    "        label=\"Prediction Interval\"\n",
    "    )\n",
    "\n",
    "    # Formatting the plot\n",
    "    plt.title(f\"Crime Forecast for {crime_type} in District {district_id}\")\n",
    "    plt.xlabel(\"Date\")\n",
    "    plt.ylabel(\"Number of Crimes\")\n",
    "    plt.legend(loc=\"upper left\")\n",
    "    plt.grid(True)\n",
    "\n",
    "    # Save the plot\n",
    "    if os.path.exists(path):\n",
    "        plt.savefig(os.path.join(path, \"Prophet_forecast.png\"))\n",
    "    plt.close()\n"
   ]
  },
  {
   "cell_type": "code",
   "execution_count": null,
   "metadata": {},
   "outputs": [
    {
     "name": "stderr",
     "output_type": "stream",
     "text": [
      "                                                                              "
     ]
    },
    {
     "name": "stdout",
     "output_type": "stream",
     "text": [
      "{'1.0': {'Aggravated Assault': {}, 'Assault': {}, 'Auto Theft': {}, 'Burglary': {}, 'Domestic Assault': {}, 'Domestic Violence': {}, 'Property Damage': {}, 'Sexual Assault': {}, 'Shoplifting': {}, 'Stolen Auto': {}}, '2.0': {'Aggravated Assault': {}, 'Assault': {}, 'Auto Theft': {}, 'Burglary': {}, 'Domestic Assault': {}, 'Domestic Violence': {}, 'Property Damage': {}, 'Sexual Assault': {}, 'Shoplifting': {}, 'Stolen Auto': {}}, '3.0': {'Aggravated Assault': {}, 'Assault': {}, 'Auto Theft': {}, 'Burglary': {}, 'Domestic Assault': {}, 'Domestic Violence': {}, 'Property Damage': {}, 'Sexual Assault': {}, 'Shoplifting': {}, 'Stolen Auto': {}}, '4.0': {'Aggravated Assault': {}, 'Assault': {}, 'Auto Theft': {}, 'Burglary': {}, 'Domestic Assault': {}, 'Domestic Violence': {}, 'Property Damage': {}, 'Sexual Assault': {}, 'Shoplifting': {}, 'Stolen Auto': {}}, '5.0': {'Aggravated Assault': {}, 'Assault': {}, 'Auto Theft': {}, 'Burglary': {}, 'Domestic Assault': {}, 'Domestic Violence': {}, 'Property Damage': {}, 'Sexual Assault': {}, 'Shoplifting': {}, 'Stolen Auto': {}}, '6.0': {'Aggravated Assault': {}, 'Assault': {}, 'Auto Theft': {}, 'Burglary': {}, 'Domestic Assault': {}, 'Domestic Violence': {}, 'Property Damage': {}, 'Sexual Assault': {}, 'Shoplifting': {}, 'Stolen Auto': {}}}\n"
     ]
    },
    {
     "name": "stderr",
     "output_type": "stream",
     "text": [
      "\r"
     ]
    }
   ],
   "source": [
    "rmse_dict = {}\n",
    "\n",
    "for dist_id in tqdm.tqdm(districts, desc=f\"Prophet Training and Prediction\", leave=False):\n",
    "    crimes = os.listdir(os.path.join(basepath, str(dist_id)))\n",
    "    rmse_dict[str(dist_id)] = {}\n",
    "    for crime in crimes:\n",
    "        rmse_dict[str(dist_id)][crime] = {}\n",
    "\n",
    "        # load data\n",
    "        train = pd.read_csv(os.path.join(basepath, dist_id, crime, \"train.csv\"))\n",
    "        test = pd.read_csv(os.path.join(basepath, dist_id, crime, \"test.csv\"))\n",
    "\n",
    "        # Prepare data for Prophet\n",
    "        train = train.reset_index().rename(columns={'Reported_Date': 'ds', 'Crime_Count': 'y'})\n",
    "        test = test.reset_index().rename(columns={'Reported_Date': 'ds', 'Crime_Count': 'y'})\n",
    "\n",
    "        # Ensure 'ds' is datetime\n",
    "        train['ds'] = pd.to_datetime(train['ds'])\n",
    "        test['ds'] = pd.to_datetime(test['ds'])\n",
    "\n",
    "        if train.isna().values.any():\n",
    "            print(f\"NaN values in train for district {dist_id}, crime {crime}\")\n",
    "\n",
    "        # Fit Prophet model\n",
    "        model = Prophet()\n",
    "        model.fit(train)\n",
    "\n",
    "        forecast_data = test.copy()\n",
    "        forecast_data.drop(columns=['y'])\n",
    "        forecast = model.predict(forecast_data)\n",
    "        \n",
    "        # Calculate RMSE of test data prediction\n",
    "        #rmse = root_mean_squared_error(test, forecast[\"trend\"]) # CHECK WHAT COLUMN TO USE OF THE forecast DATAFRAME\n",
    "        #rmse_dict[str(dist_id)][crime][\"rmse\"] = rmse\n",
    "\n",
    "        # create a plot directory\n",
    "        plot_directory = os.path.join(\"prophet_plots\", str(dist_id), crime)\n",
    "        os.makedirs(plot_directory, exist_ok=True)\n",
    "        plot_crime_forecast(train, test, forecast, path=plot_directory, crime_type=crime, district_id=dist_id)\n",
    "\n",
    "print(rmse_dict)"
   ]
  },
  {
   "cell_type": "code",
   "execution_count": 7,
   "metadata": {},
   "outputs": [],
   "source": [
    "def plot_rmse_heatmap(crime_dist_dict):\n",
    "    \"\"\"\n",
    "    Function to create a heatmap plot of RMSE values for crimes across districts\n",
    "    \"\"\"\n",
    "    # Initialize an empty dictionary to hold RMSE values\n",
    "    rmse_data = {\n",
    "        \"District\": [],\n",
    "        \"Crime\": [],\n",
    "        \"RMSE\": []\n",
    "    }\n",
    "    \n",
    "    # Collect RMSE values for each crime in each district\n",
    "    for dist_id, crimes in crime_dist_dict.items():\n",
    "        for crime_name, crime_info in crimes.items():\n",
    "            if crime_info[\"model_config\"].get(\"rmse\") is not None:\n",
    "                rmse_data[\"District\"].append(dist_id)\n",
    "                rmse_data[\"Crime\"].append(crime_name)\n",
    "                rmse_data[\"RMSE\"].append(crime_info[\"rmse\"])\n",
    "    \n",
    "    # Create a DataFrame from the collected RMSE data\n",
    "    rmse_df = pd.DataFrame(rmse_data)\n",
    "    rmse_pivot = rmse_df.pivot(index=\"Crime\", columns=\"District\", values=\"RMSE\")\n",
    "    \n",
    "    # Plot the heatmap\n",
    "    plt.figure(figsize=(8, 17))\n",
    "    sns.heatmap(rmse_pivot, annot=True, fmt=\".2f\", cmap=\"coolwarm\", cbar_kws={'label': 'RMSE'})\n",
    "    plt.title(\"RMSE of Crime Predictions by District and Crime Category\")\n",
    "    plt.xlabel(\"District\")\n",
    "    plt.ylabel(\"Crime Category\")\n",
    "    plt.tight_layout()\n",
    "    plt.show()"
   ]
  },
  {
   "cell_type": "code",
   "execution_count": null,
   "metadata": {},
   "outputs": [],
   "source": [
    "plot_rmse_heatmap(rmse_dict)"
   ]
  }
 ],
 "metadata": {
  "kernelspec": {
   "display_name": "ts_cds122",
   "language": "python",
   "name": "python3"
  },
  "language_info": {
   "codemirror_mode": {
    "name": "ipython",
    "version": 3
   },
   "file_extension": ".py",
   "mimetype": "text/x-python",
   "name": "python",
   "nbconvert_exporter": "python",
   "pygments_lexer": "ipython3",
   "version": "3.12.6"
  }
 },
 "nbformat": 4,
 "nbformat_minor": 2
}
